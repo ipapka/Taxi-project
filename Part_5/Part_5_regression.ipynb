{
 "cells": [
  {
   "cell_type": "markdown",
   "metadata": {},
   "source": [
    "<b>Contents:</b>\n",
    "\n",
    "[1  Load data 2014-2016 years](#section_1)\n",
    "\n",
    "[2  Data preprocessing](#section_2)\n",
    "\n",
    "[3  Setting coefficients to calculate the number of trips in the past.](#section_3)\n",
    "\n",
    "[4  Setting SARIMA predictions as the feature](#section_4)\n",
    "\n",
    "[5  Mastering new features](#section_5)\n",
    "\n",
    "[6  Setting the parameters of the regression model](#section_6)\n",
    "\n",
    "[7  May and June forecasting](#section_7)\n"
   ]
  },
  {
   "cell_type": "code",
   "execution_count": 23,
   "metadata": {},
   "outputs": [
    {
     "name": "stdout",
     "output_type": "stream",
     "text": [
      "Populating the interactive namespace from numpy and matplotlib\n"
     ]
    }
   ],
   "source": [
    "from sklearn.feature_selection import SelectKBest\n",
    "from sklearn.feature_selection import f_regression\n",
    "import glob\n",
    "from sklearn.preprocessing import MinMaxScaler\n",
    "from xgboost import XGBRegressor\n",
    "from xgboost import plot_importance\n",
    "\n",
    "import matplotlib.pyplot as plt\n",
    "%pylab inline\n",
    "from sklearn.metrics import r2_score\n",
    "from IPython.display import Image\n",
    "import warnings\n",
    "import pandas as pd\n",
    "from scipy import stats\n",
    "\n",
    "import matplotlib.pyplot as plt\n",
    "import warnings\n",
    "import seaborn as sns\n",
    "from itertools import product\n",
    "from datetime import datetime\n",
    "import numpy as np\n",
    "import calendar\n",
    "from datetime import timedelta\n",
    "from sklearn import metrics\n",
    "\n",
    "warnings.filterwarnings('ignore')"
   ]
  },
  {
   "cell_type": "code",
   "execution_count": 24,
   "metadata": {},
   "outputs": [],
   "source": [
    "# list of clusters\n",
    "cluster_list_0=['1075', '1076', '1077', '1125', '1126', '1127', '1131', '1132', '1179',\n",
    "       '1180', '1181', '1183', '1184', '1230', '1231', '1232', '1233', '1234',\n",
    "       '1235', '1279', '1280', '1281', '1282', '1283', '1284', '1285', '1286',\n",
    "       '1287', '1331', '1332', '1333', '1334', '1335', '1336', '1337', '1338',\n",
    "       '1382', '1383', '1384', '1385', '1386', '1434', '1684', '1734', '1783']\n",
    "cluster_list_1=['1128', '1129', '1130', '1176', '1177', '1178', '1221', '1222', '1223',\n",
    "       '1227', '1228', '1229', '1272', '1273', '1274', '1278', '1326', '1327',\n",
    "       '1376', '1377', '1378', '1380', '1426', '1532', '1533', '1630']\n",
    "cluster_list_2=['1172', '1173', '1174', '1175', '1182', '1224', '1225', '1339', '1387',\n",
    "       '1388', '1389', '1390', '1431', '1435', '1436', '1437', '1438', '1439',\n",
    "       '1441', '1442']\n",
    "cluster_list_3=['1733', '2068', '2069', '2118', '2119', '2168']\n",
    "cluster_list_4=['1480', '1482', '1483', '1530', '1580']\n",
    "# the nearest time series to each cluster center\n",
    "ts_cl_0='1334'\n",
    "ts_cl_1='1326'\n",
    "ts_cl_2='1387'\n",
    "ts_cl_3='2068'\n",
    "ts_cl_4='1530'"
   ]
  },
  {
   "cell_type": "markdown",
   "metadata": {},
   "source": [
    "<a id='section_1'></a>\n",
    "# Load data 2014-2016 years"
   ]
  },
  {
   "cell_type": "code",
   "execution_count": 25,
   "metadata": {},
   "outputs": [],
   "source": [
    "trips_2016=pd.read_csv('D:/Asus/Work_DATA/Taxi/Downloads_DATA/data_16_preprocessing/grouped_region_2016_full.csv', index_col='index')\n",
    "trips_2016.index=pd.to_datetime(trips_2016.index)\n",
    "trips_2015=pd.read_csv('D:/Asus/Work_DATA/Taxi/Downloads_DATA/data_15_preprocessing/grouped_region_2015_full.csv', index_col='index')\n",
    "trips_2015.index=pd.to_datetime(trips_2015.index)\n",
    "trips_2014=pd.read_csv('D:/Asus/Work_DATA/Taxi/Downloads_DATA/data_14_preprocessing/grouped_region_2014_full.csv', index_col='index')\n",
    "trips_2014.index=pd.to_datetime(trips_2014.index)"
   ]
  },
  {
   "cell_type": "code",
   "execution_count": 26,
   "metadata": {},
   "outputs": [
    {
     "data": {
      "text/html": [
       "<div>\n",
       "<style scoped>\n",
       "    .dataframe tbody tr th:only-of-type {\n",
       "        vertical-align: middle;\n",
       "    }\n",
       "\n",
       "    .dataframe tbody tr th {\n",
       "        vertical-align: top;\n",
       "    }\n",
       "\n",
       "    .dataframe thead th {\n",
       "        text-align: right;\n",
       "    }\n",
       "</style>\n",
       "<table border=\"1\" class=\"dataframe\">\n",
       "  <thead>\n",
       "    <tr style=\"text-align: right;\">\n",
       "      <th></th>\n",
       "      <th>1075</th>\n",
       "      <th>1076</th>\n",
       "      <th>1077</th>\n",
       "      <th>1125</th>\n",
       "      <th>1126</th>\n",
       "      <th>1127</th>\n",
       "      <th>1128</th>\n",
       "      <th>1129</th>\n",
       "      <th>1130</th>\n",
       "      <th>1131</th>\n",
       "      <th>...</th>\n",
       "      <th>1630</th>\n",
       "      <th>1684</th>\n",
       "      <th>1733</th>\n",
       "      <th>1734</th>\n",
       "      <th>1783</th>\n",
       "      <th>2068</th>\n",
       "      <th>2069</th>\n",
       "      <th>2118</th>\n",
       "      <th>2119</th>\n",
       "      <th>2168</th>\n",
       "    </tr>\n",
       "    <tr>\n",
       "      <th>index</th>\n",
       "      <th></th>\n",
       "      <th></th>\n",
       "      <th></th>\n",
       "      <th></th>\n",
       "      <th></th>\n",
       "      <th></th>\n",
       "      <th></th>\n",
       "      <th></th>\n",
       "      <th></th>\n",
       "      <th></th>\n",
       "      <th></th>\n",
       "      <th></th>\n",
       "      <th></th>\n",
       "      <th></th>\n",
       "      <th></th>\n",
       "      <th></th>\n",
       "      <th></th>\n",
       "      <th></th>\n",
       "      <th></th>\n",
       "      <th></th>\n",
       "      <th></th>\n",
       "    </tr>\n",
       "  </thead>\n",
       "  <tbody>\n",
       "    <tr>\n",
       "      <th>2016-01-01 00:00:00</th>\n",
       "      <td>80</td>\n",
       "      <td>144</td>\n",
       "      <td>50</td>\n",
       "      <td>77</td>\n",
       "      <td>319</td>\n",
       "      <td>402</td>\n",
       "      <td>531</td>\n",
       "      <td>617</td>\n",
       "      <td>846</td>\n",
       "      <td>267</td>\n",
       "      <td>...</td>\n",
       "      <td>12</td>\n",
       "      <td>0</td>\n",
       "      <td>2</td>\n",
       "      <td>44</td>\n",
       "      <td>5</td>\n",
       "      <td>41</td>\n",
       "      <td>4</td>\n",
       "      <td>70</td>\n",
       "      <td>7</td>\n",
       "      <td>66</td>\n",
       "    </tr>\n",
       "    <tr>\n",
       "      <th>2016-01-01 01:00:00</th>\n",
       "      <td>91</td>\n",
       "      <td>211</td>\n",
       "      <td>49</td>\n",
       "      <td>134</td>\n",
       "      <td>404</td>\n",
       "      <td>420</td>\n",
       "      <td>370</td>\n",
       "      <td>453</td>\n",
       "      <td>594</td>\n",
       "      <td>224</td>\n",
       "      <td>...</td>\n",
       "      <td>29</td>\n",
       "      <td>0</td>\n",
       "      <td>5</td>\n",
       "      <td>2</td>\n",
       "      <td>2</td>\n",
       "      <td>4</td>\n",
       "      <td>0</td>\n",
       "      <td>47</td>\n",
       "      <td>1</td>\n",
       "      <td>29</td>\n",
       "    </tr>\n",
       "  </tbody>\n",
       "</table>\n",
       "<p>2 rows × 102 columns</p>\n",
       "</div>"
      ],
      "text/plain": [
       "                     1075  1076  1077  1125  1126  1127  1128  1129  1130  \\\n",
       "index                                                                       \n",
       "2016-01-01 00:00:00    80   144    50    77   319   402   531   617   846   \n",
       "2016-01-01 01:00:00    91   211    49   134   404   420   370   453   594   \n",
       "\n",
       "                     1131  ...  1630  1684  1733  1734  1783  2068  2069  \\\n",
       "index                      ...                                             \n",
       "2016-01-01 00:00:00   267  ...    12     0     2    44     5    41     4   \n",
       "2016-01-01 01:00:00   224  ...    29     0     5     2     2     4     0   \n",
       "\n",
       "                     2118  2119  2168  \n",
       "index                                  \n",
       "2016-01-01 00:00:00    70     7    66  \n",
       "2016-01-01 01:00:00    47     1    29  \n",
       "\n",
       "[2 rows x 102 columns]"
      ]
     },
     "execution_count": 26,
     "metadata": {},
     "output_type": "execute_result"
    }
   ],
   "source": [
    "trips_2016.head(2)"
   ]
  },
  {
   "cell_type": "code",
   "execution_count": 27,
   "metadata": {},
   "outputs": [],
   "source": [
    "col_list=trips_2016.columns"
   ]
  },
  {
   "cell_type": "code",
   "execution_count": 28,
   "metadata": {},
   "outputs": [
    {
     "data": {
      "text/plain": [
       "Index(['1075', '1076', '1077', '1125', '1126', '1127', '1128', '1129', '1130',\n",
       "       '1131',\n",
       "       ...\n",
       "       '1630', '1684', '1733', '1734', '1783', '2068', '2069', '2118', '2119',\n",
       "       '2168'],\n",
       "      dtype='object', length=102)"
      ]
     },
     "execution_count": 28,
     "metadata": {},
     "output_type": "execute_result"
    }
   ],
   "source": [
    "col_list"
   ]
  },
  {
   "cell_type": "markdown",
   "metadata": {},
   "source": [
    "<a id='section_2'></a>\n",
    "# Data preprocessing"
   ]
  },
  {
   "cell_type": "code",
   "execution_count": 29,
   "metadata": {},
   "outputs": [],
   "source": [
    "# holydays features prerocessing\n",
    "# holydays features depending on the days of the week¶\n",
    "def date_calculate(year):\n",
    "    date_list=[]\n",
    "    for y,i,j in zip(usa_holidays['2020'].dt.month.tolist(),usa_holidays['number_of_week'].tolist(), usa_holidays['day_of_week'].tolist()  ):\n",
    "    \n",
    "        if calendar.monthcalendar(year,y)[0][j] ==0:\n",
    "            res=datetime(year,y,calendar.monthcalendar(year,y)[i+1][j])\n",
    "        else:\n",
    "            res=datetime(year,y,calendar.monthcalendar(year,y)[i][j])\n",
    "        date_list.append(res)\n",
    "    return date_list \n",
    "# loading holyday tab from internet\n",
    "base_url ='https://www.officeholidays.com/countries/usa/2020'\n",
    "df_list = pd.read_html(base_url, flavor='html5lib')\n",
    "usa_holidays=df_list[0]\n",
    "\n",
    "\n",
    "# delete the row as it is the holiday in another state\n",
    "usa_holidays=usa_holidays.drop([11])\n",
    "# Add new columns for rolling holidays date transformation\n",
    "usa_holidays['2020']='2020 '+usa_holidays['Date']\n",
    "usa_holidays['2020']=pd.to_datetime(usa_holidays['2020']) \n",
    "usa_holidays['day_of_week']=0\n",
    "usa_holidays['number_of_week']=0\n",
    "#  Leave only rows with dates depending on the days of the week\n",
    "criteria_1=usa_holidays.Comments.notna()\n",
    "usa_holidays_1=usa_holidays[criteria_1]\n",
    "list_of_days=[5,0,0,6,0,6,5,5,5,5,0,0,5,5,3,4,5,5,5]\n",
    "list_of_weeks_numbers=[0,2,2,1,3,2,0,0,0,0,0,1,0,0,3,3,0,0,0]\n",
    "\n",
    "usa_holidays.loc[:, 'day_of_week']=list_of_days\n",
    "usa_holidays.loc[:, 'number_of_week']=list_of_weeks_numbers\n",
    "usa_holidays['2014']=date_calculate(2014)\n",
    "usa_holidays['2015']=date_calculate(2015)\n",
    "usa_holidays['2016']=date_calculate(2016)\n",
    "# Add the columns with other holidays\n",
    "usa_holidays['2016_2']='2016 '+usa_holidays['Date']\n",
    "usa_holidays['2016_2']=pd.to_datetime(usa_holidays['2016_2'])\n",
    "\n",
    "\n",
    "usa_holidays['2015_2']='2015 '+usa_holidays['Date']\n",
    "usa_holidays['2015_2']=pd.to_datetime(usa_holidays['2015_2'])\n",
    "\n",
    "\n",
    "usa_holidays['2014_2']='2014 '+usa_holidays['Date']\n",
    "usa_holidays['2014_2']=pd.to_datetime(usa_holidays['2014_2'])\n",
    "# Join dates\n",
    "usa_holidays['2014'] = np.where(~criteria_1, usa_holidays['2014_2'], usa_holidays['2014'])\n",
    "usa_holidays['2015'] = np.where(~criteria_1, usa_holidays['2015_2'], usa_holidays['2015'])\n",
    "usa_holidays['2016'] = np.where(~criteria_1, usa_holidays['2016_2'], usa_holidays['2016'])\n",
    "#  Delete temporarily used columnsи\n",
    "usa_holidays=usa_holidays.iloc[:,[8,9,10]]\n",
    "# Add columns with pre- and day after the holiday\n",
    "delta=timedelta(days=1)\n",
    "usa_holidays=usa_holidays['2014'].append(usa_holidays['2015']).append(usa_holidays['2016'])\n",
    "usa_holidays=usa_holidays.to_frame(name='holidays')\n",
    "usa_holidays['day_before']=usa_holidays['holidays']-delta\n",
    "usa_holidays['day_after']=usa_holidays['holidays']+delta\n",
    "hol_list_hol=usa_holidays.holidays.tolist()\n",
    "hol_list_before=usa_holidays.day_before.tolist()\n",
    "hol_list_after=usa_holidays.day_after.tolist()\n",
    "\n",
    "## load data\n",
    "def load_data(num_ts):\n",
    "    grouped_index_16=trips_2016[num_ts]\n",
    "    grouped_index_15=trips_2015[num_ts]\n",
    "    grouped_index_14=trips_2014[num_ts]\n",
    "    grouped_index_14_16=grouped_index_14\\\n",
    "        .append(grouped_index_15)\\\n",
    "        .append(grouped_index_16)\n",
    "    \n",
    "    grouped_index_14_16.name='Count'\n",
    "    \n",
    "    return grouped_index_14_16\n",
    "\n",
    "# Check and input missing values\n",
    "\n",
    "def data_check(series):\n",
    "    date_rng = pd.date_range(start='2014-01-01', end='2016-06-30 23:00:00', freq='H')\n",
    "    grouped_index_14_16_add=pd.DataFrame({'Count': 0},index=date_rng )\n",
    "    series=series.sort_index()\n",
    "    series=series.to_frame().append(grouped_index_14_16_add)\n",
    "    grouped=series.groupby(series.index)['Count'].sum().to_frame()\n",
    "    return grouped\n",
    "\n",
    "#Find the average values and replace with them data for 2016 for the \n",
    "#observed period\n",
    "def data_storm(series_2):\n",
    "    list_to_change=((series_2.loc['2015-01-24 05:00:00':'2015-01-26 09:00:00'].Count.values+series_2.loc['2014-01-25 05:00:00':'2014-01-27 09:00:00'].Count.values)/2).astype('int')\n",
    "    series_2.loc['2016-01-23 05:00:00':'2016-01-25 09:00:00','Count']=list_to_change\n",
    "    grouped=series_2\n",
    "    return grouped\n",
    "\n",
    "# Feature mastering\n",
    "## Adding holidays\n",
    "def add_holidays(series_3):\n",
    "    criteria_hol=pd.to_datetime(series_3.index.strftime('%Y-%m-%d')).isin(hol_list_hol)\n",
    "    criteria_before=pd.to_datetime(series_3.index.strftime('%Y-%m-%d')).isin(hol_list_before)\n",
    "    criteria_after=pd.to_datetime(series_3.index.strftime('%Y-%m-%d')).isin(hol_list_after)\n",
    "    series_3['hol']=np.where(criteria_hol, 1, 0)\n",
    "    series_3['before_hol']=np.where(criteria_before, 1, 0)\n",
    "    series_3['after_hol']=np.where(criteria_after, 1, 0)\n",
    "    grouped=series_3\n",
    "    return grouped\n",
    "\n",
    "## Adding intercept, day, week and year's features\n",
    "def add_features(series_4):\n",
    "    \n",
    "    # intercept\n",
    "    series_4['w_0']=1\n",
    "    T=len(series_4)\n",
    "    t=np.linspace(1,T, T)\n",
    "    # week features\n",
    "    for j in range(50):\n",
    "        i=j+1\n",
    "        name='sw_'+str(i)\n",
    "        new_column_values=np.sin(t*2*np.pi*i/168)\n",
    "        series_4[name]=new_column_values\n",
    "\n",
    "    for j in range(50):\n",
    "        i=j+1\n",
    "        name='cw_'+str(i)\n",
    "        new_column_values=np.cos(t*2*np.pi*i/168)\n",
    "        series_4[name]=new_column_values\n",
    "     # year's features\n",
    "    for j in range(50):\n",
    "        i=j+1\n",
    "        name='sy_'+str(i)\n",
    "        new_column_values=np.sin(t*2*np.pi*i/8766)\n",
    "        series_4[name]=new_column_values\n",
    "\n",
    "    for j in range(50):\n",
    "        i=j+1\n",
    "        name='cy_'+str(i)\n",
    "        new_column_values=np.cos(t*2*np.pi*i/8766)\n",
    "        series_4[name]=new_column_values\n",
    "         # day features\n",
    "    for j in range(50):\n",
    "        i=j+1\n",
    "        name='sh_'+str(i)\n",
    "        new_column_values=np.sin(t*2*np.pi*i/24)\n",
    "        series_4[name]=new_column_values\n",
    "\n",
    "    for j in range(50):\n",
    "        i=j+1\n",
    "        name='ch_'+str(i)\n",
    "        new_column_values=np.cos(t*2*np.pi*i/24)\n",
    "        series_4[name]=new_column_values\n",
    "    grouped=series_4\n",
    "    return grouped\n",
    "    \n",
    "## selecting the most important features\n",
    "def feature_selection(series_5, num_features):\n",
    "    x=series_5.loc[:'2016.04.30 23:00','hol':]\n",
    "    y=np.array(series_5.loc[:'2016.04.30 23:00','Count']).reshape(-1)\n",
    "    #apply SelectKBest class to extract top 40 best features\n",
    "    bestfeatures = SelectKBest(score_func=f_regression, k=num_features)\n",
    "    fit = bestfeatures.fit(x,y)\n",
    "    dfscores = pd.DataFrame(fit.scores_)\n",
    "    dfcolumns = pd.DataFrame(x.columns)\n",
    "    #concat two dataframes for better visualization \n",
    "    featureScores = pd.concat([dfcolumns,dfscores],axis=1)\n",
    "    featureScores.columns = ['Specs','Score']  #naming the dataframe columns\n",
    "    column_list=featureScores.nlargest(num_features,'Score').Specs.tolist()\n",
    "    column_list2=['Count'] #, 'hol', 'before_hol', 'after_hol'\n",
    "    column_list=column_list2+column_list\n",
    "    column_list=list(set(column_list))\n",
    "    grouped=series_5[sorted(column_list)]\n",
    "    return grouped\n",
    "\n",
    "## splitting data for training and testing sets\n",
    "def split_data(series_6):\n",
    "    \n",
    "    ## intervals till the end of april\n",
    "    train_sarimax=series_6.loc[:'2016-04-30 23:00']\n",
    "    x_train_sarimax=train_sarimax.iloc[:,1:]\n",
    "    y_train_sarimax=train_sarimax.iloc[:,0]\n",
    "    \n",
    "    ## intervals till the end of may\n",
    "    train=series_6.loc[:'2016-06-30 23:00']\n",
    "    x_train=train.iloc[:,1:]\n",
    "    y_train=train.iloc[:,0]\n",
    "\n",
    "    ## test sample\n",
    "    test=series_6.loc['2016-05-01':]\n",
    "    return x_train, y_train, train,test, x_train_sarimax, y_train_sarimax, train_sarimax\n",
    "\n",
    "# Combining all \n",
    "def data_preprocessing(num_ts, num_features):\n",
    "    warnings.filterwarnings('ignore')\n",
    "    grouped=load_data(num_ts)\n",
    "    grouped=data_check(grouped)\n",
    "    grouped= data_storm(grouped)\n",
    "    grouped=add_holidays(grouped)\n",
    "    grouped=add_features(grouped)\n",
    "    grouped=feature_selection(grouped, num_features)\n",
    "    x_train, y_train, train,test, x_train_sarimax, y_train_sarimax, train_sarimax =split_data(grouped)\n",
    "    return grouped,  x_train, y_train, train,test, x_train_sarimax, y_train_sarimax, train_sarimax\n",
    "                              \n",
    "\n",
    "def date_calculate(year):\n",
    "    date_list=[]\n",
    "    for y,i,j in zip(usa_holidays['2020'].dt.month.tolist(),usa_holidays['number_of_week'].tolist(), usa_holidays['day_of_week'].tolist()  ):\n",
    "    \n",
    "        if calendar.monthcalendar(year,y)[0][j] ==0:\n",
    "            res=datetime(year,y,calendar.monthcalendar(year,y)[i+1][j])\n",
    "        else:\n",
    "            res=datetime(year,y,calendar.monthcalendar(year,y)[i][j])\n",
    "        date_list.append(res)\n",
    "    return date_list \n",
    "# loading holyday tab from internet\n",
    "base_url ='https://www.officeholidays.com/countries/usa/2020'\n",
    "df_list = pd.read_html(base_url, flavor='html5lib')\n",
    "usa_holidays=df_list[0]\n",
    "\n",
    "\n",
    "# delete the row as it is the holiday in another state\n",
    "usa_holidays=usa_holidays.drop([11])\n",
    "# Add new columns for rolling holidays date transformation\n",
    "usa_holidays['2020']='2020 '+usa_holidays['Date']\n",
    "usa_holidays['2020']=pd.to_datetime(usa_holidays['2020']) \n",
    "usa_holidays['day_of_week']=0\n",
    "usa_holidays['number_of_week']=0\n",
    "#  Leave only rows with dates depending on the days of the week\n",
    "criteria_1=usa_holidays.Comments.notna()\n",
    "usa_holidays_1=usa_holidays[criteria_1]\n",
    "list_of_days=[5,0,0,6,0,6,5,5,5,5,0,0,5,5,3,4,5,5,5]\n",
    "list_of_weeks_numbers=[0,2,2,1,3,2,0,0,0,0,0,1,0,0,3,3,0,0,0]\n",
    "\n",
    "usa_holidays.loc[:, 'day_of_week']=list_of_days\n",
    "usa_holidays.loc[:, 'number_of_week']=list_of_weeks_numbers\n",
    "usa_holidays['2014']=date_calculate(2014)\n",
    "usa_holidays['2015']=date_calculate(2015)\n",
    "usa_holidays['2016']=date_calculate(2016)\n",
    "# Add the columns with other holidays\n",
    "usa_holidays['2016_2']='2016 '+usa_holidays['Date']\n",
    "usa_holidays['2016_2']=pd.to_datetime(usa_holidays['2016_2'])\n",
    "\n",
    "\n",
    "usa_holidays['2015_2']='2015 '+usa_holidays['Date']\n",
    "usa_holidays['2015_2']=pd.to_datetime(usa_holidays['2015_2'])\n",
    "\n",
    "\n",
    "usa_holidays['2014_2']='2014 '+usa_holidays['Date']\n",
    "usa_holidays['2014_2']=pd.to_datetime(usa_holidays['2014_2'])\n",
    "# Join dates\n",
    "usa_holidays['2014'] = np.where(~criteria_1, usa_holidays['2014_2'], usa_holidays['2014'])\n",
    "usa_holidays['2015'] = np.where(~criteria_1, usa_holidays['2015_2'], usa_holidays['2015'])\n",
    "usa_holidays['2016'] = np.where(~criteria_1, usa_holidays['2016_2'], usa_holidays['2016'])\n",
    "#  Delete temporarily used columnsи\n",
    "usa_holidays=usa_holidays.iloc[:,[8,9,10]]\n",
    "# Add columns with pre- and day after the holiday\n",
    "delta=timedelta(days=1)\n",
    "usa_holidays=usa_holidays['2014'].append(usa_holidays['2015']).append(usa_holidays['2016'])\n",
    "usa_holidays=usa_holidays.to_frame(name='holidays')\n",
    "usa_holidays['day_before']=usa_holidays['holidays']-delta\n",
    "usa_holidays['day_after']=usa_holidays['holidays']+delta\n",
    "hol_list_hol=usa_holidays.holidays.tolist()\n",
    "hol_list_before=usa_holidays.day_before.tolist()\n",
    "hol_list_after=usa_holidays.day_after.tolist()\n",
    "\n",
    "## load data\n",
    "def load_data(num_ts):\n",
    "    grouped_index_16=trips_2016[num_ts]\n",
    "    grouped_index_15=trips_2015[num_ts]\n",
    "    grouped_index_14=trips_2014[num_ts]\n",
    "    grouped_index_14_16=grouped_index_14\\\n",
    "        .append(grouped_index_15)\\\n",
    "        .append(grouped_index_16)\n",
    "    \n",
    "    grouped_index_14_16.name='Count'\n",
    "    \n",
    "    return grouped_index_14_16\n",
    "\n",
    "# Check and input missing values\n",
    "def data_check(series):\n",
    "    date_rng = pd.date_range(start='2014-01-01', end='2016-06-30 23:00:00', freq='H')\n",
    "    grouped_index_14_16_add=pd.DataFrame({'Count': 0},index=date_rng )\n",
    "    series=series.sort_index()\n",
    "    series=series.to_frame().append(grouped_index_14_16_add)\n",
    "    grouped=series.groupby(series.index)['Count'].sum().to_frame()\n",
    "    return grouped\n",
    "\n",
    "#Find the average values and replace with them data for 2016 for the \n",
    "#observed period\n",
    "def data_storm(series_2):\n",
    "    list_to_change=((series_2.loc['2015-01-24 05:00:00':'2015-01-26 09:00:00'].Count.values+series_2.loc['2014-01-25 05:00:00':'2014-01-27 09:00:00'].Count.values)/2).astype('int')\n",
    "    series_2.loc['2016-01-23 05:00:00':'2016-01-25 09:00:00','Count']=list_to_change\n",
    "    grouped=series_2\n",
    "    return grouped\n",
    "\n",
    "# Feature mastering\n",
    "## Adding holidays\n",
    "def add_holidays(series_3):\n",
    "    criteria_hol=pd.to_datetime(series_3.index.strftime('%Y-%m-%d')).isin(hol_list_hol)\n",
    "    criteria_before=pd.to_datetime(series_3.index.strftime('%Y-%m-%d')).isin(hol_list_before)\n",
    "    criteria_after=pd.to_datetime(series_3.index.strftime('%Y-%m-%d')).isin(hol_list_after)\n",
    "    series_3['hol']=np.where(criteria_hol, 1, 0)\n",
    "    series_3['before_hol']=np.where(criteria_before, 1, 0)\n",
    "    series_3['after_hol']=np.where(criteria_after, 1, 0)\n",
    "    grouped=series_3\n",
    "    return grouped\n",
    "\n",
    "## Adding intercept, day, week and year's features\n",
    "def add_features(series_4):\n",
    "    \n",
    "    # intercept\n",
    "    series_4['w_0']=1\n",
    "    T=len(series_4)\n",
    "    t=np.linspace(1,T, T)\n",
    "    # week features\n",
    "    for j in range(50):\n",
    "        i=j+1\n",
    "        name='sw_'+str(i)\n",
    "        new_column_values=np.sin(t*2*np.pi*i/168)\n",
    "        series_4[name]=new_column_values\n",
    "\n",
    "    for j in range(50):\n",
    "        i=j+1\n",
    "        name='cw_'+str(i)\n",
    "        new_column_values=np.cos(t*2*np.pi*i/168)\n",
    "        series_4[name]=new_column_values\n",
    "     # year's features\n",
    "    for j in range(50):\n",
    "        i=j+1\n",
    "        name='sy_'+str(i)\n",
    "        new_column_values=np.sin(t*2*np.pi*i/8766)\n",
    "        series_4[name]=new_column_values\n",
    "\n",
    "    for j in range(50):\n",
    "        i=j+1\n",
    "        name='cy_'+str(i)\n",
    "        new_column_values=np.cos(t*2*np.pi*i/8766)\n",
    "        series_4[name]=new_column_values\n",
    "         # day features\n",
    "    for j in range(50):\n",
    "        i=j+1\n",
    "        name='sh_'+str(i)\n",
    "        new_column_values=np.sin(t*2*np.pi*i/24)\n",
    "        series_4[name]=new_column_values\n",
    "\n",
    "    for j in range(50):\n",
    "        i=j+1\n",
    "        name='ch_'+str(i)\n",
    "        new_column_values=np.cos(t*2*np.pi*i/24)\n",
    "        series_4[name]=new_column_values\n",
    "    grouped=series_4\n",
    "    return grouped\n",
    "    \n",
    "## selecting the most important features\n",
    "def feature_selection(series_5, num_features):\n",
    "    x=series_5.loc[:'2016.04.30 23:00','hol':]\n",
    "    y=np.array(series_5.loc[:'2016.04.30 23:00','Count']).reshape(-1)\n",
    "    #apply SelectKBest class to extract top 40 best features\n",
    "    bestfeatures = SelectKBest(score_func=f_regression, k=num_features)\n",
    "    fit = bestfeatures.fit(x,y)\n",
    "    dfscores = pd.DataFrame(fit.scores_)\n",
    "    dfcolumns = pd.DataFrame(x.columns)\n",
    "    #concat two dataframes for better visualization \n",
    "    featureScores = pd.concat([dfcolumns,dfscores],axis=1)\n",
    "    featureScores.columns = ['Specs','Score']  #naming the dataframe columns\n",
    "    column_list=featureScores.nlargest(num_features,'Score').Specs.tolist()\n",
    "    column_list2=['Count'] #, 'hol', 'before_hol', 'after_hol'\n",
    "    column_list=column_list2+column_list\n",
    "    column_list=list(set(column_list))\n",
    "    grouped=series_5[sorted(column_list)]\n",
    "    return grouped\n",
    "\n",
    "## splitting data for training and testing sets\n",
    "def split_data(series_6):\n",
    "    \n",
    "    ## intervals till the end of april\n",
    "    train_sarimax=series_6.loc[:'2016-04-30 23:00']\n",
    "    x_train_sarimax=train_sarimax.iloc[:,1:]\n",
    "    y_train_sarimax=train_sarimax.iloc[:,0]\n",
    "    \n",
    "    ## intervals till the end of june\n",
    "    train=series_6.loc[:'2016-06-30 23:00']\n",
    "    x_train=train.iloc[:,1:]\n",
    "    y_train=train.iloc[:,0]\n",
    "\n",
    "    ## test sample\n",
    "    test=series_6.loc['2016-05-01':]\n",
    "    return x_train, y_train, train,test, x_train_sarimax, y_train_sarimax, train_sarimax\n",
    "\n",
    "# Combining all\n",
    "def data_preprocessing(num_ts, num_features):\n",
    "    warnings.filterwarnings('ignore')\n",
    "    grouped=load_data(num_ts)\n",
    "    grouped=data_check(grouped)\n",
    "    grouped= data_storm(grouped)\n",
    "    grouped=add_holidays(grouped)\n",
    "    grouped=add_features(grouped)\n",
    "    grouped=feature_selection(grouped, num_features)\n",
    "    x_train, y_train, train,test, x_train_sarimax, y_train_sarimax, train_sarimax =split_data(grouped)\n",
    "    return grouped,  x_train, y_train, train,test, x_train_sarimax, y_train_sarimax, train_sarimax\n",
    "                              \n"
   ]
  },
  {
   "cell_type": "markdown",
   "metadata": {},
   "source": [
    "<a id='section_3'></a>\n",
    "# Setting coefficients to calculate the number of trips in the past."
   ]
  },
  {
   "cell_type": "code",
   "execution_count": 8,
   "metadata": {},
   "outputs": [],
   "source": [
    "ts_cl_0='1334'\n",
    "ts_cl_1='1326'\n",
    "ts_cl_2='1387'\n",
    "ts_cl_3='2068'\n",
    "ts_cl_4='1530'"
   ]
  },
  {
   "cell_type": "code",
   "execution_count": 9,
   "metadata": {},
   "outputs": [],
   "source": [
    "num_ts=ts_cl_0\n",
    "num_features=80\n",
    "# для подбора K использую данные до апреля 2016 года включительно\n",
    "df=data_preprocessing(num_ts, num_features)[6] \n",
    "df=df.to_frame()\n"
   ]
  },
  {
   "cell_type": "code",
   "execution_count": 10,
   "metadata": {},
   "outputs": [
    {
     "data": {
      "text/html": [
       "<div>\n",
       "<style scoped>\n",
       "    .dataframe tbody tr th:only-of-type {\n",
       "        vertical-align: middle;\n",
       "    }\n",
       "\n",
       "    .dataframe tbody tr th {\n",
       "        vertical-align: top;\n",
       "    }\n",
       "\n",
       "    .dataframe thead th {\n",
       "        text-align: right;\n",
       "    }\n",
       "</style>\n",
       "<table border=\"1\" class=\"dataframe\">\n",
       "  <thead>\n",
       "    <tr style=\"text-align: right;\">\n",
       "      <th></th>\n",
       "      <th>Count</th>\n",
       "    </tr>\n",
       "  </thead>\n",
       "  <tbody>\n",
       "    <tr>\n",
       "      <th>2016-04-30 22:00:00</th>\n",
       "      <td>401</td>\n",
       "    </tr>\n",
       "    <tr>\n",
       "      <th>2016-04-30 23:00:00</th>\n",
       "      <td>320</td>\n",
       "    </tr>\n",
       "  </tbody>\n",
       "</table>\n",
       "</div>"
      ],
      "text/plain": [
       "                     Count\n",
       "2016-04-30 22:00:00    401\n",
       "2016-04-30 23:00:00    320"
      ]
     },
     "execution_count": 10,
     "metadata": {},
     "output_type": "execute_result"
    }
   ],
   "source": [
    "df.tail(2)"
   ]
  },
  {
   "cell_type": "code",
   "execution_count": 11,
   "metadata": {},
   "outputs": [],
   "source": [
    "# количество поездок в моменты времени K кратные часам\n",
    "tdelta=timedelta(hours=1)\n",
    "K=24\n",
    "for j in range(K):\n",
    "        i=j+1\n",
    "        name='shift_H'+str(i)\n",
    "        new_column_values=df.Count.shift(i)\n",
    "        df[name]=new_column_values"
   ]
  },
  {
   "cell_type": "code",
   "execution_count": 12,
   "metadata": {},
   "outputs": [
    {
     "name": "stdout",
     "output_type": "stream",
     "text": [
      "[0.6822971  0.00274827 0.0149093  0.00397262 0.04870009 0.06781505\n",
      " 0.00934343 0.00208569 0.00720461 0.00831515 0.00428599 0.003338\n",
      " 0.0034775  0.0042899  0.00648824 0.00332482 0.00304478 0.00603329\n",
      " 0.03633457 0.01355894 0.01716718 0.00543825 0.00968982 0.03613751]\n"
     ]
    },
    {
     "data": {
      "image/png": "[encoded data removed]",
      "text/plain": [
       "<Figure size 432x288 with 1 Axes>"
      ]
     },
     "metadata": {
      "needs_background": "light"
     },
     "output_type": "display_data"
    }
   ],
   "source": [
    "# проверяю значимость признаков \n",
    "# split data into X and y\n",
    "X = df.iloc[K:,1:]\n",
    "y = df.iloc[K:,:1:]\n",
    "# fit model on training data\n",
    "model = XGBRegressor()\n",
    "model.fit(X, y)\n",
    "# feature importance\n",
    "print(model.feature_importances_)\n",
    "# plot\n",
    "pyplot.bar(range(len(model.feature_importances_)), model.feature_importances_)\n",
    "pyplot.show()"
   ]
  },
  {
   "cell_type": "code",
   "execution_count": null,
   "metadata": {},
   "outputs": [],
   "source": []
  },
  {
   "cell_type": "code",
   "execution_count": null,
   "metadata": {},
   "outputs": [],
   "source": []
  },
  {
   "cell_type": "code",
   "execution_count": null,
   "metadata": {},
   "outputs": [],
   "source": []
  },
  {
   "cell_type": "code",
   "execution_count": 13,
   "metadata": {},
   "outputs": [
    {
     "data": {
      "image/png": "[encoded data removed]",
      "text/plain": [
       "<Figure size 720x432 with 1 Axes>"
      ]
     },
     "metadata": {
      "needs_background": "light"
     },
     "output_type": "display_data"
    }
   ],
   "source": [
    "fig, ax = plt.subplots(figsize=(10,6))\n",
    "plot_importance(model,ax=ax)\n",
    "pyplot.show()"
   ]
  },
  {
   "cell_type": "markdown",
   "metadata": {},
   "source": [
    "Set K=24"
   ]
  },
  {
   "cell_type": "code",
   "execution_count": 14,
   "metadata": {},
   "outputs": [],
   "source": [
    "num_ts=ts_cl_0\n",
    "num_features=80\n",
    "# для подбора K использую данные до апреля 2016 года включительно\n",
    "df=data_preprocessing(num_ts, num_features)[6] \n",
    "df=df.to_frame()\n",
    "\n",
    "# количество поездок в моменты времени Kd кратные дням\n",
    "tdelta=timedelta(hours=1)\n",
    "Kd=20\n",
    "for j in range(Kd):\n",
    "        i=j+1\n",
    "        name='shift_D'+str(i)\n",
    "        new_column_values=df.Count.shift(i*24)\n",
    "        df[name]=new_column_values"
   ]
  },
  {
   "cell_type": "code",
   "execution_count": 15,
   "metadata": {},
   "outputs": [
    {
     "name": "stdout",
     "output_type": "stream",
     "text": [
      "[0.02770545 0.00309937 0.00492586 0.00347772 0.00491415 0.01090067\n",
      " 0.823164   0.00463583 0.00537711 0.00300183 0.00328699 0.00376202\n",
      " 0.00312264 0.07573145 0.00298191 0.00329267 0.00316179 0.00281091\n",
      " 0.00310961 0.00753801]\n"
     ]
    },
    {
     "data": {
      "image/png": "[encoded data removed]",
      "text/plain": [
       "<Figure size 432x288 with 1 Axes>"
      ]
     },
     "metadata": {
      "needs_background": "light"
     },
     "output_type": "display_data"
    }
   ],
   "source": [
    "# проверяю значимость признаков \n",
    "# split data into X and y\n",
    "X = df.iloc[Kd*24:,1:]\n",
    "y = df.iloc[Kd*24:,:1:]\n",
    "# fit model on training data\n",
    "model = XGBRegressor()\n",
    "model.fit(X, y)\n",
    "# feature importance\n",
    "print(model.feature_importances_)\n",
    "# plot\n",
    "pyplot.bar(range(len(model.feature_importances_)), model.feature_importances_)\n",
    "pyplot.show()"
   ]
  },
  {
   "cell_type": "code",
   "execution_count": 16,
   "metadata": {},
   "outputs": [
    {
     "data": {
      "image/png": "[encoded data removed]",
      "text/plain": [
       "<Figure size 720x432 with 1 Axes>"
      ]
     },
     "metadata": {
      "needs_background": "light"
     },
     "output_type": "display_data"
    }
   ],
   "source": [
    "fig, ax = plt.subplots(figsize=(10,6))\n",
    "plot_importance(model,ax=ax)\n",
    "pyplot.show()"
   ]
  },
  {
   "cell_type": "markdown",
   "metadata": {},
   "source": [
    "Kd=20"
   ]
  },
  {
   "cell_type": "markdown",
   "metadata": {},
   "source": [
    "<a id='section_4'></a>\n",
    "# Setting SARIMA predictions as the feature"
   ]
  },
  {
   "cell_type": "code",
   "execution_count": 236,
   "metadata": {},
   "outputs": [],
   "source": [
    "def calculate_ts(ts,param_2):\n",
    "    param_2=param_2\n",
    "    start_time=param_2[0]\n",
    "    d=param_2[1]\n",
    "    D=param_2[2]\n",
    "    parameters_list = list([param_2[3]])\n",
    "    reserv_param=param_2[4]\n",
    "    s=param_2[5]\n",
    "    num_features=param_2[6]\n",
    "\n",
    "    cluster_0=data_preprocessing(ts, num_features)\n",
    "    grouped_0=cluster_0[0]\n",
    "\n",
    "    ## feature interval till the end of may\n",
    "    x_train_0=cluster_0[1]\n",
    "\n",
    "    ## trip's interval till the end of may\n",
    "    y_train_0=cluster_0[2]\n",
    "\n",
    "    ## complite dataset till the end of may\n",
    "    train_0=cluster_0[3]\n",
    "\n",
    "    ## ---------------------------------\n",
    "\n",
    "     ## feature interval till the end of april\n",
    "    x_train_sarimax=cluster_0[5]\n",
    "\n",
    "    ## trip's interval till the end of april\n",
    "    y_train_sarimax=cluster_0[6]\n",
    "    \n",
    "    ## complite dataset till the end of april\n",
    "    train_sarimax=cluster_0[7]\n",
    "\n",
    "    ## --------------------------------------\n",
    "\n",
    "    ## test sample may-june\n",
    "    test_data=cluster_0[4]\n",
    "    train=train_0\n",
    "\n",
    "    results = []\n",
    "    best_aic = float(\"inf\")\n",
    "    warnings.filterwarnings('ignore')\n",
    "    train_data=y_train_0[start_time:]\n",
    "    exog_data=x_train_0[start_time:]\n",
    "\n",
    "    for param in parameters_list:\n",
    "        \n",
    "        try:\n",
    "            model=sm.tsa.statespace.SARIMAX(train_data, exog=exog_data, order=(param[0], d, param[1]), \n",
    "                                        seasonal_order=(param[2], D, param[3], s), enforce_stationarity=False, enforce_invertibility=False).fit(disp=-1)\n",
    "        \n",
    "        except ValueError:\n",
    "            print('wrong parameters:', param)\n",
    "            param=reserv_param\n",
    "            model=sm.tsa.statespace.SARIMAX(train_data, exog=exog_data, order=(param[0], d, param[1]), \n",
    "                                        seasonal_order=(param[2], D, param[3], s), enforce_stationarity=False, enforce_invertibility=False).fit(disp=-1)\n",
    "            best_model = model\n",
    "            continue\n",
    "        \n",
    "        except LinAlgError:\n",
    "            print('singularity parameters:', param)\n",
    "            param=reserv_param\n",
    "            model=sm.tsa.statespace.SARIMAX(train_data, exog=exog_data, order=(param[0], d, param[1]), \n",
    "                                        seasonal_order=(param[2], D, param[3], s), enforce_stationarity=False, enforce_invertibility=False).fit(disp=-1)\n",
    "            best_model = model\n",
    "            continue\n",
    "        \n",
    "    \n",
    "    \n",
    "        best_model = model\n",
    "        predicted=best_model.fittedvalues #, exog=exog_data)\n",
    "\n",
    "    return predicted"
   ]
  },
  {
   "cell_type": "code",
   "execution_count": null,
   "metadata": {},
   "outputs": [],
   "source": [
    "\n",
    "## list of clusters\n",
    "cluster_list=[cluster_list_0, \n",
    "              cluster_list_1, \n",
    "              cluster_list_2,\n",
    "              cluster_list_3,\n",
    "              cluster_list_4]\n",
    "## cluster training parametrs\n",
    "## \n",
    "param_list=[('2014-01-01',0,1,[1, 0, 1, 0],[2, 0, 2, 0], 12, 40), \n",
    "            ('2014-01-01',0,1,[1, 0, 1, 0],[0, 2, 0, 2], 12, 40), \n",
    "            ('2014-01-01',0,1,[1, 0, 1, 0],[0, 0, 1, 4], 12, 40), \n",
    "            ('2014-01-01',0,1,[0, 0, 1, 4],[0, 0, 0, 3], 12, 40), \n",
    "            ('2014-01-01',0,1,[3, 0, 1, 0],[2, 0, 1, 0], 12, 40)]\n",
    "\n",
    "warnings.simplefilter('ignore')\n",
    "\n",
    "for condition, param in zip(cluster_list, param_list):\n",
    "    list_columns_cl_2=condition\n",
    "    param_2=param\n",
    "    \n",
    "    for ts in list_columns_cl_2:\n",
    "        warnings.simplefilter('ignore')\n",
    "    \n",
    "        predicted =calculate_ts(ts,param_2)\n",
    "        series=pd.Series(predicted)\n",
    "        # Полученные результаты значений предсказаний сохраняю на диск\n",
    "        series.index.name='id'\n",
    "        series.name='sarima'  \n",
    "        f_name=ts+'_sarima'+'.csv'\n",
    "        series.to_csv(f_name, sep = ',')"
   ]
  },
  {
   "cell_type": "markdown",
   "metadata": {},
   "source": [
    "Save the results to the disc"
   ]
  },
  {
   "cell_type": "code",
   "execution_count": 1,
   "metadata": {},
   "outputs": [],
   "source": []
  },
  {
   "cell_type": "markdown",
   "metadata": {},
   "source": [
    "<a id='section_5'></a>\n",
    "# Mastering new features"
   ]
  },
  {
   "cell_type": "code",
   "execution_count": 17,
   "metadata": {},
   "outputs": [],
   "source": [
    "def data_preprocessing_stage_2(num_ts,num_features):\n",
    "    # Adding SARIMA predictions as new features\n",
    "    series_7=data_preprocessing(num_ts, num_features)\n",
    "    df=series_7[0]\n",
    "    f_name=num_ts+'_sarima'+'.csv'\n",
    "    sarima_features=pd.read_csv('D:/Asus/Work_DATA/Taxi/C6W5/Step_2_create_ARIMA_feat/'+f_name, index_col='id')\n",
    "    sarima_features.index=pd.to_datetime(sarima_features.index)\n",
    "    df=df.assign(sarima=sarima_features.sarima)\n",
    "    # Adding new features depending from data\n",
    "    # year's features\n",
    "    df=df.assign(y_f=df.index.year-2014)\n",
    "    # month's features\n",
    "    df=df.assign(mnth_sin=(np.sin((df.index.month-1)*(2.*np.pi/12))))\n",
    "    df=df.assign(mnth_cos=(np.cos((df.index.month-1)*(2.*np.pi/12))))\n",
    "    # day's features\n",
    "    df=df.assign(d_f=df.index.day)\n",
    "    # hour's features\n",
    "    df= df.assign(hr_sin=np.sin(df.index.hour*(2.*np.pi/24)))\n",
    "    df= df.assign(hr_cos=np.cos(df.index.hour*(2.*np.pi/24)))\n",
    "    # the number of day in the year\n",
    "    df=df.assign(yd_f=df.index.dayofyear)\n",
    "    # the number of week in the year\n",
    "    df=df.assign(wk_f=df.index.weekofyear)\n",
    "    # day of week\n",
    "    df=df.assign(wd_sin=np.sin(df.index.dayofweek*(2.*np.pi/7)))\n",
    "    df=df.assign(wd_cos=np.cos(df.index.dayofweek*(2.*np.pi/7)))\n",
    "    # check is this a start of the month\n",
    "    df=df.assign(ms_f=df.index.is_month_start*1)\n",
    "    # check is this a start of the quarter\n",
    "    df=df.assign(qs_f=df.index.is_quarter_start*1)\n",
    "    # the number of quarter\n",
    "    df=df.assign(qs_sin=np.sin((df.index.quarter-1)*(2.*np.pi/4)))\n",
    "    df=df.assign(qs_cos=np.cos((df.index.quarter-1)*(2.*np.pi/4)))\n",
    "    # summary and avarege number of travels for 12 hours, 24 hours and etc.\n",
    "    df=df.assign(rol_12s=df.Count.rolling(12).sum())\n",
    "    df=df.assign(rol_24s=df.Count.rolling(24).sum())\n",
    "    df=df.assign(rol_168s=df.Count.rolling(168).sum())\n",
    "    df=df.assign(rol_720s=df.Count.rolling(720).sum())\n",
    "    df=df.assign(rol_12m=df.Count.rolling(12).mean())\n",
    "    df=df.assign(rol_24m=df.Count.rolling(24).mean())\n",
    "    df=df.assign(rol_168m=df.Count.rolling(168).mean())\n",
    "    df=df.assign(rol_720m=df.Count.rolling(720).mean())\n",
    "    # the number of trips in the past\n",
    "    tdelta=timedelta(hours=1)\n",
    "    K=24\n",
    "    for j in range(K):\n",
    "        i=j+1\n",
    "        name='shift_H'+str(i)\n",
    "        new_column_values=df.Count.shift(i)\n",
    "        df[name]=new_column_values\n",
    "    #\n",
    "    tdelta=timedelta(hours=1)\n",
    "    Kd=20\n",
    "    for j in range(Kd):\n",
    "        i=j+1\n",
    "        name='shift_D'+str(i)\n",
    "        new_column_values=df.Count.shift(i*24)\n",
    "        df[name]=new_column_values\n",
    "    #One hot encoding for clusters\n",
    "    oh_0=int(num_ts in cluster_list_0)\n",
    "    oh_1=int(num_ts in cluster_list_1)\n",
    "    oh_2=int(num_ts in cluster_list_2)\n",
    "    oh_3=int(num_ts in cluster_list_3)\n",
    "    oh_4=int(num_ts in cluster_list_4)\n",
    "    df=df.assign(oh_0=oh_0,\n",
    "            oh_1=oh_1,\n",
    "            oh_2=oh_2,\n",
    "            oh_3=oh_3,\n",
    "            oh_4=oh_4)\n",
    "       \n",
    "    df=df.dropna()\n",
    "    # sample till the end of april\n",
    "    df_a=df[:'2016-04-30 23:00:00']\n",
    "    # sample till the end of may\n",
    "    df_m=df[:'2016-05-31 23:00:00']\n",
    "    #complite sample\n",
    "    df_j=df[:'2016-06-30 23:00:00']\n",
    "    # Creating samples for 1-6 hours forecasting in feature\n",
    "    sample_1=df_j\n",
    "    shift_1=sample_1.Count.shift(-1)\n",
    "    sample_1.Count=shift_1\n",
    "    \n",
    "    sample_2=sample_1.dropna()\n",
    "    shift_2=sample_2.Count.shift(-1)\n",
    "    sample_2.Count=shift_2\n",
    "    \n",
    "    sample_3=sample_2.dropna()\n",
    "    shift_3=sample_3.Count.shift(-1)\n",
    "    sample_3.Count=shift_3\n",
    "\n",
    "    sample_4=sample_3.dropna()\n",
    "    shift_4=sample_4.Count.shift(-1)\n",
    "    sample_4.Count=shift_4\n",
    "\n",
    "    sample_5=sample_4.dropna()\n",
    "    shift_5=sample_5.Count.shift(-1)\n",
    "    sample_5.Count=shift_5\n",
    "\n",
    "    sample_6=sample_5.dropna()\n",
    "    shift_6=sample_6.Count.shift(-1)\n",
    "    sample_6.Count=shift_6\n",
    "    \n",
    "    \n",
    "    return df_a, sample_1, sample_2, sample_3, sample_4, sample_5, sample_6, df_m, df_j, df"
   ]
  },
  {
   "cell_type": "markdown",
   "metadata": {},
   "source": [
    "<a id='section_6'></a>\n",
    "# Setting the parameters of the regression model"
   ]
  },
  {
   "cell_type": "code",
   "execution_count": 18,
   "metadata": {},
   "outputs": [],
   "source": [
    "def tune_regression(data):\n",
    "    train=data\n",
    "    X=np.array(train.iloc[:,1:])\n",
    "    Y=np.array(train.iloc[:,:1]).reshape(-1)\n",
    "    xgb1 = XGBRegressor()\n",
    "    parameters = {'nthread':[4], #when use hyperthread, xgboost may become slower\n",
    "              'objective':['reg:linear'],\n",
    "              'learning_rate': [.03, 0.05, .07], #so called `eta` value\n",
    "              'max_depth': [5, 6, 7],\n",
    "              'min_child_weight': range(1,6,2), # Used to control over-fitting\n",
    "              'silent': [1],\n",
    "              'subsample': [0.7],\n",
    "              'colsample_bytree': [0.7],\n",
    "              'n_estimators': [500]}\n",
    "\n",
    "    xgb_grid = GridSearchCV(xgb1,\n",
    "                        parameters,\n",
    "                        cv = 2,\n",
    "                        n_jobs = 5,\n",
    "                        verbose=True)\n",
    "\n",
    "    xgb_grid.fit(X,Y)\n",
    "\n",
    "    print(xgb_grid.best_score_)\n",
    "    print(xgb_grid.best_params_)\n",
    "    res=list(xgb_grid.best_params_.values())\n",
    "    \n",
    "    #  Gamma specifies the minimum loss reduction required to make a split.\n",
    "    xgb2 = XGBRegressor(\n",
    "        colsample_bytree=res[0],\n",
    "        learning_rate=res[1],\n",
    "        max_depth=res[2],\n",
    "        min_child_weight=res[3],\n",
    "        n_estimators=res[4],\n",
    "        nthread=res[5],\n",
    "        objective=res[6],\n",
    "        silent=res[7],\n",
    "        subsample=res[8])\n",
    "    parameters = {'gamma':[i/10.0 for i in range(0,5)]}\n",
    "\n",
    "    xgb_grid2 = GridSearchCV(xgb2,\n",
    "                        parameters,\n",
    "                        cv = 2,\n",
    "                        n_jobs = 5,\n",
    "                        verbose=True)\n",
    "\n",
    "    xgb_grid2.fit(X,Y)\n",
    "\n",
    "    print(xgb_grid2.best_score_)\n",
    "    print(xgb_grid2.best_params_)\n",
    "    res2=list(xgb_grid2.best_params_.values())\n",
    "    \n",
    "    #  used in case of very high dimensionality so that the algorithm runs faster when implemented\n",
    "    xgb3 = XGBRegressor(\n",
    "        colsample_bytree=res[0],\n",
    "        learning_rate=res[1],\n",
    "        max_depth=res[2],\n",
    "        min_child_weight=res[3],\n",
    "        n_estimators=res[4],\n",
    "        nthread=res[5],\n",
    "        objective=res[6],\n",
    "        silent=res[7],\n",
    "        subsample=res[8],\n",
    "        gamma=res2[0])\n",
    "    parameters = {'reg_alpha': [1e-5, 1e-2, 0.1, 1, 100]} #\n",
    "\n",
    "    xgb_grid3 = GridSearchCV(xgb3,\n",
    "                        parameters,\n",
    "                        cv = 2,\n",
    "                        n_jobs = 5,\n",
    "                        verbose=True)\n",
    "\n",
    "    xgb_grid3.fit(X,Y)\n",
    "\n",
    "    print(xgb_grid3.best_score_)\n",
    "    print(xgb_grid3.best_params_)\n",
    "    res3=list(xgb_grid3.best_params_.values())\n",
    "    \n",
    "    # it should be explored to reduce overfitting.\n",
    "    xgb4 = XGBRegressor(\n",
    "        colsample_bytree=res[0],\n",
    "        learning_rate=res[1],\n",
    "        max_depth=res[2],\n",
    "        min_child_weight=res[3],\n",
    "        n_estimators=res[4],\n",
    "        nthread=res[5],\n",
    "        objective=res[6],\n",
    "        silent=res[7],\n",
    "        subsample=res[8],\n",
    "        gamma=res2[0],\n",
    "        reg_alpha=res3[0])\n",
    "    parameters = {'reg_lambda':[1e-5, 1e-2, 0.1, 1, 100]} # \n",
    "\n",
    "    xgb_grid4 = GridSearchCV(xgb4,\n",
    "                        parameters,\n",
    "                        cv = 2,\n",
    "                        n_jobs = 5,\n",
    "                        verbose=True)\n",
    "\n",
    "    xgb_grid4.fit(X,Y)\n",
    "\n",
    "    print(xgb_grid4.best_score_)\n",
    "    print(xgb_grid4.best_params_)\n",
    "    res4=list(xgb_grid4.best_params_.values())\n",
    "    \n",
    "    list_of_param=[res[0], res[1], res[2], res[3], res[4], res[5], res[6], res[7], res[8],res2[0], res3[0], res4[0]]\n",
    "    return list_of_param\n",
    "    \n",
    "    \n",
    "    \n",
    "    "
   ]
  },
  {
   "cell_type": "code",
   "execution_count": 738,
   "metadata": {},
   "outputs": [
    {
     "name": "stdout",
     "output_type": "stream",
     "text": [
      "Fitting 2 folds for each of 27 candidates, totalling 54 fits\n"
     ]
    },
    {
     "name": "stderr",
     "output_type": "stream",
     "text": [
      "[Parallel(n_jobs=5)]: Using backend LokyBackend with 5 concurrent workers.\n",
      "[Parallel(n_jobs=5)]: Done  40 tasks      | elapsed: 15.6min\n",
      "[Parallel(n_jobs=5)]: Done  54 out of  54 | elapsed: 20.3min finished\n"
     ]
    },
    {
     "name": "stdout",
     "output_type": "stream",
     "text": [
      "0.9661397604949987\n",
      "{'colsample_bytree': 0.7, 'learning_rate': 0.03, 'max_depth': 7, 'min_child_weight': 5, 'n_estimators': 500, 'nthread': 4, 'objective': 'reg:linear', 'silent': 1, 'subsample': 0.7}\n",
      "Fitting 2 folds for each of 5 candidates, totalling 10 fits\n"
     ]
    },
    {
     "name": "stderr",
     "output_type": "stream",
     "text": [
      "[Parallel(n_jobs=5)]: Using backend LokyBackend with 5 concurrent workers.\n",
      "[Parallel(n_jobs=5)]: Done  10 out of  10 | elapsed:  4.2min finished\n"
     ]
    },
    {
     "name": "stdout",
     "output_type": "stream",
     "text": [
      "0.9661397604949987\n",
      "{'gamma': 0.0}\n",
      "Fitting 2 folds for each of 5 candidates, totalling 10 fits\n"
     ]
    },
    {
     "name": "stderr",
     "output_type": "stream",
     "text": [
      "[Parallel(n_jobs=5)]: Using backend LokyBackend with 5 concurrent workers.\n",
      "[Parallel(n_jobs=5)]: Done  10 out of  10 | elapsed:  4.2min finished\n"
     ]
    },
    {
     "name": "stdout",
     "output_type": "stream",
     "text": [
      "0.966246818083939\n",
      "{'reg_alpha': 1}\n",
      "Fitting 2 folds for each of 5 candidates, totalling 10 fits\n"
     ]
    },
    {
     "name": "stderr",
     "output_type": "stream",
     "text": [
      "[Parallel(n_jobs=5)]: Using backend LokyBackend with 5 concurrent workers.\n",
      "[Parallel(n_jobs=5)]: Done  10 out of  10 | elapsed:  4.4min finished\n"
     ]
    },
    {
     "name": "stdout",
     "output_type": "stream",
     "text": [
      "0.9664914111833747\n",
      "{'reg_lambda': 0.01}\n",
      "Fitting 2 folds for each of 27 candidates, totalling 54 fits\n"
     ]
    },
    {
     "name": "stderr",
     "output_type": "stream",
     "text": [
      "[Parallel(n_jobs=5)]: Using backend LokyBackend with 5 concurrent workers.\n",
      "[Parallel(n_jobs=5)]: Done  40 tasks      | elapsed: 16.3min\n",
      "[Parallel(n_jobs=5)]: Done  54 out of  54 | elapsed: 21.2min finished\n"
     ]
    },
    {
     "name": "stdout",
     "output_type": "stream",
     "text": [
      "0.9605646353275288\n",
      "{'colsample_bytree': 0.7, 'learning_rate': 0.03, 'max_depth': 7, 'min_child_weight': 5, 'n_estimators': 500, 'nthread': 4, 'objective': 'reg:linear', 'silent': 1, 'subsample': 0.7}\n",
      "Fitting 2 folds for each of 5 candidates, totalling 10 fits\n"
     ]
    },
    {
     "name": "stderr",
     "output_type": "stream",
     "text": [
      "[Parallel(n_jobs=5)]: Using backend LokyBackend with 5 concurrent workers.\n",
      "[Parallel(n_jobs=5)]: Done  10 out of  10 | elapsed:  4.2min finished\n"
     ]
    },
    {
     "name": "stdout",
     "output_type": "stream",
     "text": [
      "0.9605646353275288\n",
      "{'gamma': 0.0}\n",
      "Fitting 2 folds for each of 5 candidates, totalling 10 fits\n"
     ]
    },
    {
     "name": "stderr",
     "output_type": "stream",
     "text": [
      "[Parallel(n_jobs=5)]: Using backend LokyBackend with 5 concurrent workers.\n",
      "[Parallel(n_jobs=5)]: Done  10 out of  10 | elapsed:  4.3min finished\n"
     ]
    },
    {
     "name": "stdout",
     "output_type": "stream",
     "text": [
      "0.9605646360672646\n",
      "{'reg_alpha': 1e-05}\n",
      "Fitting 2 folds for each of 5 candidates, totalling 10 fits\n"
     ]
    },
    {
     "name": "stderr",
     "output_type": "stream",
     "text": [
      "[Parallel(n_jobs=5)]: Using backend LokyBackend with 5 concurrent workers.\n",
      "[Parallel(n_jobs=5)]: Done  10 out of  10 | elapsed:  4.4min finished\n"
     ]
    },
    {
     "name": "stdout",
     "output_type": "stream",
     "text": [
      "0.9608015299862569\n",
      "{'reg_lambda': 0.01}\n",
      "Fitting 2 folds for each of 27 candidates, totalling 54 fits\n"
     ]
    },
    {
     "name": "stderr",
     "output_type": "stream",
     "text": [
      "[Parallel(n_jobs=5)]: Using backend LokyBackend with 5 concurrent workers.\n",
      "[Parallel(n_jobs=5)]: Done  40 tasks      | elapsed: 16.3min\n",
      "[Parallel(n_jobs=5)]: Done  54 out of  54 | elapsed: 21.2min finished\n"
     ]
    },
    {
     "name": "stdout",
     "output_type": "stream",
     "text": [
      "0.9570435226800902\n",
      "{'colsample_bytree': 0.7, 'learning_rate': 0.03, 'max_depth': 7, 'min_child_weight': 5, 'n_estimators': 500, 'nthread': 4, 'objective': 'reg:linear', 'silent': 1, 'subsample': 0.7}\n",
      "Fitting 2 folds for each of 5 candidates, totalling 10 fits\n"
     ]
    },
    {
     "name": "stderr",
     "output_type": "stream",
     "text": [
      "[Parallel(n_jobs=5)]: Using backend LokyBackend with 5 concurrent workers.\n",
      "[Parallel(n_jobs=5)]: Done  10 out of  10 | elapsed:  4.4min finished\n"
     ]
    },
    {
     "name": "stdout",
     "output_type": "stream",
     "text": [
      "0.9570435226800902\n",
      "{'gamma': 0.0}\n",
      "Fitting 2 folds for each of 5 candidates, totalling 10 fits\n"
     ]
    },
    {
     "name": "stderr",
     "output_type": "stream",
     "text": [
      "[Parallel(n_jobs=5)]: Using backend LokyBackend with 5 concurrent workers.\n",
      "[Parallel(n_jobs=5)]: Done  10 out of  10 | elapsed:  4.3min finished\n"
     ]
    },
    {
     "name": "stdout",
     "output_type": "stream",
     "text": [
      "0.9572578867824285\n",
      "{'reg_alpha': 1}\n",
      "Fitting 2 folds for each of 5 candidates, totalling 10 fits\n"
     ]
    },
    {
     "name": "stderr",
     "output_type": "stream",
     "text": [
      "[Parallel(n_jobs=5)]: Using backend LokyBackend with 5 concurrent workers.\n",
      "[Parallel(n_jobs=5)]: Done  10 out of  10 | elapsed:  4.5min finished\n"
     ]
    },
    {
     "name": "stdout",
     "output_type": "stream",
     "text": [
      "0.9572578867824285\n",
      "{'reg_lambda': 1}\n",
      "Fitting 2 folds for each of 27 candidates, totalling 54 fits\n"
     ]
    },
    {
     "name": "stderr",
     "output_type": "stream",
     "text": [
      "[Parallel(n_jobs=5)]: Using backend LokyBackend with 5 concurrent workers.\n",
      "[Parallel(n_jobs=5)]: Done  40 tasks      | elapsed: 16.7min\n",
      "[Parallel(n_jobs=5)]: Done  54 out of  54 | elapsed: 21.7min finished\n"
     ]
    },
    {
     "name": "stdout",
     "output_type": "stream",
     "text": [
      "0.9543513410813529\n",
      "{'colsample_bytree': 0.7, 'learning_rate': 0.03, 'max_depth': 7, 'min_child_weight': 5, 'n_estimators': 500, 'nthread': 4, 'objective': 'reg:linear', 'silent': 1, 'subsample': 0.7}\n",
      "Fitting 2 folds for each of 5 candidates, totalling 10 fits\n"
     ]
    },
    {
     "name": "stderr",
     "output_type": "stream",
     "text": [
      "[Parallel(n_jobs=5)]: Using backend LokyBackend with 5 concurrent workers.\n",
      "[Parallel(n_jobs=5)]: Done  10 out of  10 | elapsed:  4.6min finished\n"
     ]
    },
    {
     "name": "stdout",
     "output_type": "stream",
     "text": [
      "0.9543513410813529\n",
      "{'gamma': 0.0}\n",
      "Fitting 2 folds for each of 5 candidates, totalling 10 fits\n"
     ]
    },
    {
     "name": "stderr",
     "output_type": "stream",
     "text": [
      "[Parallel(n_jobs=5)]: Using backend LokyBackend with 5 concurrent workers.\n",
      "[Parallel(n_jobs=5)]: Done  10 out of  10 | elapsed:  4.5min finished\n"
     ]
    },
    {
     "name": "stdout",
     "output_type": "stream",
     "text": [
      "0.9544807581366841\n",
      "{'reg_alpha': 1}\n",
      "Fitting 2 folds for each of 5 candidates, totalling 10 fits\n"
     ]
    },
    {
     "name": "stderr",
     "output_type": "stream",
     "text": [
      "[Parallel(n_jobs=5)]: Using backend LokyBackend with 5 concurrent workers.\n",
      "[Parallel(n_jobs=5)]: Done  10 out of  10 | elapsed:  4.5min finished\n"
     ]
    },
    {
     "name": "stdout",
     "output_type": "stream",
     "text": [
      "0.9551860224029891\n",
      "{'reg_lambda': 1e-05}\n",
      "Fitting 2 folds for each of 27 candidates, totalling 54 fits\n"
     ]
    },
    {
     "name": "stderr",
     "output_type": "stream",
     "text": [
      "[Parallel(n_jobs=5)]: Using backend LokyBackend with 5 concurrent workers.\n",
      "[Parallel(n_jobs=5)]: Done  40 tasks      | elapsed: 17.0min\n",
      "[Parallel(n_jobs=5)]: Done  54 out of  54 | elapsed: 22.3min finished\n"
     ]
    },
    {
     "name": "stdout",
     "output_type": "stream",
     "text": [
      "0.9521416550534003\n",
      "{'colsample_bytree': 0.7, 'learning_rate': 0.03, 'max_depth': 7, 'min_child_weight': 3, 'n_estimators': 500, 'nthread': 4, 'objective': 'reg:linear', 'silent': 1, 'subsample': 0.7}\n",
      "Fitting 2 folds for each of 5 candidates, totalling 10 fits\n"
     ]
    },
    {
     "name": "stderr",
     "output_type": "stream",
     "text": [
      "[Parallel(n_jobs=5)]: Using backend LokyBackend with 5 concurrent workers.\n",
      "[Parallel(n_jobs=5)]: Done  10 out of  10 | elapsed:  4.7min finished\n"
     ]
    },
    {
     "name": "stdout",
     "output_type": "stream",
     "text": [
      "0.9521416550534003\n",
      "{'gamma': 0.0}\n",
      "Fitting 2 folds for each of 5 candidates, totalling 10 fits\n"
     ]
    },
    {
     "name": "stderr",
     "output_type": "stream",
     "text": [
      "[Parallel(n_jobs=5)]: Using backend LokyBackend with 5 concurrent workers.\n",
      "[Parallel(n_jobs=5)]: Done  10 out of  10 | elapsed:  4.7min finished\n"
     ]
    },
    {
     "name": "stdout",
     "output_type": "stream",
     "text": [
      "0.9522288201373217\n",
      "{'reg_alpha': 1}\n",
      "Fitting 2 folds for each of 5 candidates, totalling 10 fits\n"
     ]
    },
    {
     "name": "stderr",
     "output_type": "stream",
     "text": [
      "[Parallel(n_jobs=5)]: Using backend LokyBackend with 5 concurrent workers.\n",
      "[Parallel(n_jobs=5)]: Done  10 out of  10 | elapsed:  4.8min finished\n"
     ]
    },
    {
     "name": "stdout",
     "output_type": "stream",
     "text": [
      "0.9522288201373217\n",
      "{'reg_lambda': 1}\n",
      "Fitting 2 folds for each of 27 candidates, totalling 54 fits\n"
     ]
    },
    {
     "name": "stderr",
     "output_type": "stream",
     "text": [
      "[Parallel(n_jobs=5)]: Using backend LokyBackend with 5 concurrent workers.\n",
      "[Parallel(n_jobs=5)]: Done  40 tasks      | elapsed: 17.5min\n",
      "[Parallel(n_jobs=5)]: Done  54 out of  54 | elapsed: 22.7min finished\n"
     ]
    },
    {
     "name": "stdout",
     "output_type": "stream",
     "text": [
      "0.9514962773486133\n",
      "{'colsample_bytree': 0.7, 'learning_rate': 0.03, 'max_depth': 7, 'min_child_weight': 5, 'n_estimators': 500, 'nthread': 4, 'objective': 'reg:linear', 'silent': 1, 'subsample': 0.7}\n",
      "Fitting 2 folds for each of 5 candidates, totalling 10 fits\n"
     ]
    },
    {
     "name": "stderr",
     "output_type": "stream",
     "text": [
      "[Parallel(n_jobs=5)]: Using backend LokyBackend with 5 concurrent workers.\n",
      "[Parallel(n_jobs=5)]: Done  10 out of  10 | elapsed:  4.7min finished\n"
     ]
    },
    {
     "name": "stdout",
     "output_type": "stream",
     "text": [
      "0.9517324414428259\n",
      "{'gamma': 0.3}\n",
      "Fitting 2 folds for each of 5 candidates, totalling 10 fits\n"
     ]
    },
    {
     "name": "stderr",
     "output_type": "stream",
     "text": [
      "[Parallel(n_jobs=5)]: Using backend LokyBackend with 5 concurrent workers.\n",
      "[Parallel(n_jobs=5)]: Done  10 out of  10 | elapsed:  4.7min finished\n"
     ]
    },
    {
     "name": "stdout",
     "output_type": "stream",
     "text": [
      "0.9519027183496884\n",
      "{'reg_alpha': 0.1}\n",
      "Fitting 2 folds for each of 5 candidates, totalling 10 fits\n"
     ]
    },
    {
     "name": "stderr",
     "output_type": "stream",
     "text": [
      "[Parallel(n_jobs=5)]: Using backend LokyBackend with 5 concurrent workers.\n",
      "[Parallel(n_jobs=5)]: Done  10 out of  10 | elapsed:  4.7min finished\n"
     ]
    },
    {
     "name": "stdout",
     "output_type": "stream",
     "text": [
      "0.9522711093328662\n",
      "{'reg_lambda': 0.1}\n",
      "[[0.7, 0.03, 7, 5, 500, 4, 'reg:linear', 1, 0.7, 0.0, 1, 0.01], [0.7, 0.03, 7, 5, 500, 4, 'reg:linear', 1, 0.7, 0.0, 1e-05, 0.01], [0.7, 0.03, 7, 5, 500, 4, 'reg:linear', 1, 0.7, 0.0, 1, 1], [0.7, 0.03, 7, 5, 500, 4, 'reg:linear', 1, 0.7, 0.0, 1, 1e-05], [0.7, 0.03, 7, 3, 500, 4, 'reg:linear', 1, 0.7, 0.0, 1, 1], [0.7, 0.03, 7, 5, 500, 4, 'reg:linear', 1, 0.7, 0.3, 0.1, 0.1]]\n"
     ]
    }
   ],
   "source": [
    "# adding the parameters of each cluster to the list\n",
    "sample_param=[]\n",
    "# tuning the parameters\n",
    "for i in range(6):\n",
    "    # tuning on the 0 cluster\n",
    "    num_ts=ts_cl_0\n",
    "    num_features=160\n",
    "    data=data_preprocessing_stage_2(num_ts,num_features)\n",
    "    # the training sample is till the end of may\n",
    "    data=data[i+1][:'2016-05-31 23:00:00']\n",
    "    list_of_param=tune_regression(data)\n",
    "    sample_param.append(list_of_param)\n",
    "print(sample_param)"
   ]
  },
  {
   "cell_type": "code",
   "execution_count": 622,
   "metadata": {},
   "outputs": [
    {
     "data": {
      "text/plain": [
       "[0.7, 0.03, 7, 3, 500, 4, 'reg:linear', 1, 0.7, 0.0, 1, 1]"
      ]
     },
     "execution_count": 622,
     "metadata": {},
     "output_type": "execute_result"
    }
   ],
   "source": [
    "sample_param[4]"
   ]
  },
  {
   "cell_type": "markdown",
   "metadata": {},
   "source": [
    "The list of parameters for each forecasting sample"
   ]
  },
  {
   "cell_type": "code",
   "execution_count": 20,
   "metadata": {},
   "outputs": [],
   "source": [
    "sample_param=[[0.7, 0.03, 7, 5, 500, 4, 'reg:linear', 1, 0.7, 0.0, 1, 0.01],\n",
    " [0.7, 0.03, 7, 5, 500, 4, 'reg:linear', 1, 0.7, 0.0, 1e-05, 0.01],\n",
    " [0.7, 0.03, 7, 5, 500, 4, 'reg:linear', 1, 0.7, 0.0, 1, 1],\n",
    " [0.7, 0.03, 7, 5, 500, 4, 'reg:linear', 1, 0.7, 0.0, 1, 1e-05],\n",
    " [0.7, 0.03, 7, 3, 500, 4, 'reg:linear', 1, 0.7, 0.0, 1, 1],\n",
    " [0.7, 0.03, 7, 5, 500, 4, 'reg:linear', 1, 0.7, 0.3, 0.1, 0.1]]"
   ]
  },
  {
   "cell_type": "code",
   "execution_count": 21,
   "metadata": {},
   "outputs": [],
   "source": [
    "data=data_preprocessing_stage_2(ts_cl_0,160)"
   ]
  },
  {
   "cell_type": "code",
   "execution_count": 22,
   "metadata": {},
   "outputs": [
    {
     "data": {
      "text/html": [
       "<div>\n",
       "<style scoped>\n",
       "    .dataframe tbody tr th:only-of-type {\n",
       "        vertical-align: middle;\n",
       "    }\n",
       "\n",
       "    .dataframe tbody tr th {\n",
       "        vertical-align: top;\n",
       "    }\n",
       "\n",
       "    .dataframe thead th {\n",
       "        text-align: right;\n",
       "    }\n",
       "</style>\n",
       "<table border=\"1\" class=\"dataframe\">\n",
       "  <thead>\n",
       "    <tr style=\"text-align: right;\">\n",
       "      <th></th>\n",
       "      <th>Count</th>\n",
       "      <th>after_hol</th>\n",
       "      <th>before_hol</th>\n",
       "      <th>ch_1</th>\n",
       "      <th>ch_10</th>\n",
       "      <th>ch_14</th>\n",
       "      <th>ch_15</th>\n",
       "      <th>ch_17</th>\n",
       "      <th>ch_18</th>\n",
       "      <th>ch_19</th>\n",
       "      <th>...</th>\n",
       "      <th>shift_D16</th>\n",
       "      <th>shift_D17</th>\n",
       "      <th>shift_D18</th>\n",
       "      <th>shift_D19</th>\n",
       "      <th>shift_D20</th>\n",
       "      <th>oh_0</th>\n",
       "      <th>oh_1</th>\n",
       "      <th>oh_2</th>\n",
       "      <th>oh_3</th>\n",
       "      <th>oh_4</th>\n",
       "    </tr>\n",
       "  </thead>\n",
       "  <tbody>\n",
       "    <tr>\n",
       "      <th>2016-06-30 18:00:00</th>\n",
       "      <td>272.0</td>\n",
       "      <td>0</td>\n",
       "      <td>0</td>\n",
       "      <td>0.258819</td>\n",
       "      <td>0.866025</td>\n",
       "      <td>0.866025</td>\n",
       "      <td>0.707107</td>\n",
       "      <td>-0.965926</td>\n",
       "      <td>2.632507e-12</td>\n",
       "      <td>0.965926</td>\n",
       "      <td>...</td>\n",
       "      <td>795.0</td>\n",
       "      <td>685.0</td>\n",
       "      <td>388.0</td>\n",
       "      <td>654.0</td>\n",
       "      <td>830.0</td>\n",
       "      <td>1</td>\n",
       "      <td>0</td>\n",
       "      <td>0</td>\n",
       "      <td>0</td>\n",
       "      <td>0</td>\n",
       "    </tr>\n",
       "    <tr>\n",
       "      <th>2016-06-30 19:00:00</th>\n",
       "      <td>212.0</td>\n",
       "      <td>0</td>\n",
       "      <td>0</td>\n",
       "      <td>0.500000</td>\n",
       "      <td>-0.500000</td>\n",
       "      <td>-0.500000</td>\n",
       "      <td>-1.000000</td>\n",
       "      <td>0.500000</td>\n",
       "      <td>1.000000e+00</td>\n",
       "      <td>0.500000</td>\n",
       "      <td>...</td>\n",
       "      <td>731.0</td>\n",
       "      <td>539.0</td>\n",
       "      <td>357.0</td>\n",
       "      <td>600.0</td>\n",
       "      <td>716.0</td>\n",
       "      <td>1</td>\n",
       "      <td>0</td>\n",
       "      <td>0</td>\n",
       "      <td>0</td>\n",
       "      <td>0</td>\n",
       "    </tr>\n",
       "  </tbody>\n",
       "</table>\n",
       "<p>2 rows × 233 columns</p>\n",
       "</div>"
      ],
      "text/plain": [
       "                     Count  after_hol  before_hol      ch_1     ch_10  \\\n",
       "2016-06-30 18:00:00  272.0          0           0  0.258819  0.866025   \n",
       "2016-06-30 19:00:00  212.0          0           0  0.500000 -0.500000   \n",
       "\n",
       "                        ch_14     ch_15     ch_17         ch_18     ch_19  \\\n",
       "2016-06-30 18:00:00  0.866025  0.707107 -0.965926  2.632507e-12  0.965926   \n",
       "2016-06-30 19:00:00 -0.500000 -1.000000  0.500000  1.000000e+00  0.500000   \n",
       "\n",
       "                     ...  shift_D16  shift_D17  shift_D18  shift_D19  \\\n",
       "2016-06-30 18:00:00  ...      795.0      685.0      388.0      654.0   \n",
       "2016-06-30 19:00:00  ...      731.0      539.0      357.0      600.0   \n",
       "\n",
       "                     shift_D20  oh_0  oh_1  oh_2  oh_3  oh_4  \n",
       "2016-06-30 18:00:00      830.0     1     0     0     0     0  \n",
       "2016-06-30 19:00:00      716.0     1     0     0     0     0  \n",
       "\n",
       "[2 rows x 233 columns]"
      ]
     },
     "execution_count": 22,
     "metadata": {},
     "output_type": "execute_result"
    }
   ],
   "source": [
    "data[4][:-1].tail(2)"
   ]
  },
  {
   "cell_type": "markdown",
   "metadata": {},
   "source": [
    "Training the models on 232 features"
   ]
  },
  {
   "cell_type": "code",
   "execution_count": null,
   "metadata": {},
   "outputs": [],
   "source": []
  },
  {
   "cell_type": "markdown",
   "metadata": {},
   "source": [
    "<a id='section_7'></a>\n",
    "# May and June forecasting"
   ]
  },
  {
   "cell_type": "code",
   "execution_count": 889,
   "metadata": {},
   "outputs": [],
   "source": [
    "def calculate_regression_ts(num_ts, sample_param):\n",
    "    \n",
    "    data=data_preprocessing_stage_2(num_ts,160)\n",
    "    models=[]\n",
    "    \n",
    "    warnings.filterwarnings('ignore')\n",
    "    train_samples=[data[1], data[2], data[3], data[4], data[5], data[6]]\n",
    "    for param, train_sample in zip(sample_param, train_samples ):\n",
    "        \n",
    "        train_data_m=train_sample[:\"2016-05-31 23:00\"] # trainning all models on the saples till the end of may\n",
    "                                                       # do not touch the data of june\n",
    "            \n",
    "        X=np.array(train_data_m.iloc[:,1:])\n",
    "        Y=np.array(train_data_m.iloc[:,:1]).reshape(-1)\n",
    "        xgb = XGBRegressor(\n",
    "            colsample_bytree=param[0],\n",
    "            learning_rate=param[1],\n",
    "            max_depth=param[2],\n",
    "            min_child_weight=param[3],\n",
    "            n_estimators=param[4],\n",
    "            nthread=param[5],\n",
    "            objective=param[6],\n",
    "            silent=param[7],\n",
    "            subsample=param[8],\n",
    "            gamma=param[9],\n",
    "            reg_alpha=param[10],\n",
    "            reg_lambda=param[11])\n",
    "        xgb.fit(X,Y)\n",
    "        models.append(xgb)\n",
    "        \n",
    "    \n",
    "    warnings.filterwarnings('default')\n",
    "    \n",
    "    # the limits of testing samples\n",
    "    period_may=pd.date_range(start=\"2016-04-30 23:00\",end=\"2016-05-31 17:00\", freq='H')\n",
    "    period_june=pd.date_range(start=\"'2016-05-31 23:00'\",end=\"2016-06-30 17:00\", freq='H')\n",
    "    \n",
    "    res_pred_m=0\n",
    "   \n",
    "    res_pred_j=0\n",
    "    \n",
    "    res_regr=0\n",
    "    series=pd.Series(dtype='int')\n",
    "    num_str=['_1','_2', '_3', '_4', '_5', '_6']\n",
    "    for t in period_may:\n",
    "        predicted=[]\n",
    "        actuals=[]\n",
    "        for i in range(6):\n",
    "            x=np.array(data[i+1][t:t].iloc[:,1:])\n",
    "            pred=models[i].predict(x)\n",
    "            actual=data[i+1][t:t].Count\n",
    "            predicted.append(pred[0])\n",
    "            actuals.append(actual[0])\n",
    "        res_pred_m += (np.abs(np.array(actuals) - np.array(predicted))).sum()/6\n",
    "        \n",
    "        #print(res_pred_m)\n",
    "       \n",
    "    ts_Q_may=res_pred_m\n",
    "    \n",
    "    for t in period_june:\n",
    "        predicted=[]\n",
    "        actuals=[]\n",
    "        for i in range(6):\n",
    "            x=np.array(data[i+1][t:t].iloc[:,1:])\n",
    "            pred=models[i].predict(x)\n",
    "            actual=data[i+1][t:t].Count\n",
    "            predicted.append(pred[0])\n",
    "            actuals.append(actual[0])\n",
    "        res_pred_j += (np.abs(np.array(actuals) - np.array(predicted))).sum()/6\n",
    "        \n",
    "        #print(res_pred_j)\n",
    "        \n",
    "        idx=num_ts+'_'+pd.Index([data[1][t:t].index[0].strftime(\"%Y-%m-%d\")]*6)+'_'+str(data[1][t:t].index[0].hour)+num_str\n",
    "        \n",
    "        series_=pd.Series(predicted ,index=idx)\n",
    "        series=series.append(series_)\n",
    "    ts_Q_june=res_pred_j\n",
    "    \n",
    "        \n",
    "        \n",
    "    \n",
    "    return ts_Q_may, ts_Q_june, series, predicted, models\n",
    "        "
   ]
  },
  {
   "cell_type": "code",
   "execution_count": 890,
   "metadata": {},
   "outputs": [
    {
     "name": "stdout",
     "output_type": "stream",
     "text": [
      "Start: 12:06:25\n",
      "Посчитан ряд  1075  за май и июнь 12:13:16\n",
      "Посчитан ряд  1076  за май и июнь 12:20:07\n",
      "Посчитан ряд  1077  за май и июнь 12:27:07\n",
      "Посчитан ряд  1125  за май и июнь 12:34:07\n",
      "Посчитан ряд  1126  за май и июнь 12:41:48\n",
      "Посчитан ряд  1127  за май и июнь 12:49:24\n",
      "Посчитан ряд  1128  за май и июнь 12:56:58\n",
      "Посчитан ряд  1129  за май и июнь 13:04:31\n",
      "Посчитан ряд  1130  за май и июнь 13:12:10\n",
      "Посчитан ряд  1131  за май и июнь 13:19:30\n",
      "Посчитан ряд  1132  за май и июнь 13:27:04\n",
      "Посчитан ряд  1172  за май и июнь 13:34:14\n",
      "Посчитан ряд  1173  за май и июнь 13:41:20\n",
      "Посчитан ряд  1174  за май и июнь 13:48:32\n",
      "Посчитан ряд  1175  за май и июнь 13:55:49\n",
      "Посчитан ряд  1176  за май и июнь 14:02:56\n",
      "Посчитан ряд  1177  за май и июнь 14:10:29\n",
      "Посчитан ряд  1178  за май и июнь 14:18:10\n",
      "Посчитан ряд  1179  за май и июнь 14:25:56\n",
      "Посчитан ряд  1180  за май и июнь 14:33:45\n",
      "Посчитан ряд  1181  за май и июнь 14:41:20\n",
      "Посчитан ряд  1182  за май и июнь 14:48:50\n",
      "Посчитан ряд  1183  за май и июнь 14:56:18\n",
      "Посчитан ряд  1184  за май и июнь 15:03:26\n",
      "Посчитан ряд  1221  за май и июнь 15:10:38\n",
      "Посчитан ряд  1222  за май и июнь 15:17:49\n",
      "Посчитан ряд  1223  за май и июнь 15:25:13\n",
      "Посчитан ряд  1224  за май и июнь 15:32:38\n",
      "Посчитан ряд  1225  за май и июнь 15:39:48\n",
      "Посчитан ряд  1227  за май и июнь 15:46:52\n",
      "Посчитан ряд  1228  за май и июнь 15:54:03\n",
      "Посчитан ряд  1229  за май и июнь 16:01:24\n",
      "Посчитан ряд  1230  за май и июнь 16:08:51\n",
      "Посчитан ряд  1231  за май и июнь 16:16:18\n",
      "Посчитан ряд  1232  за май и июнь 16:23:47\n",
      "Посчитан ряд  1233  за май и июнь 16:31:05\n",
      "Посчитан ряд  1234  за май и июнь 16:38:17\n",
      "Посчитан ряд  1235  за май и июнь 16:45:15\n",
      "Посчитан ряд  1272  за май и июнь 16:52:07\n",
      "Посчитан ряд  1273  за май и июнь 16:58:55\n",
      "Посчитан ряд  1274  за май и июнь 17:05:48\n",
      "Посчитан ряд  1278  за май и июнь 17:12:39\n",
      "Посчитан ряд  1279  за май и июнь 17:19:33\n",
      "Посчитан ряд  1280  за май и июнь 17:26:40\n",
      "Посчитан ряд  1281  за май и июнь 17:34:03\n",
      "Посчитан ряд  1282  за май и июнь 17:41:35\n",
      "Посчитан ряд  1283  за май и июнь 17:48:52\n",
      "Посчитан ряд  1284  за май и июнь 17:55:54\n",
      "Посчитан ряд  1285  за май и июнь 18:03:04\n",
      "Посчитан ряд  1286  за май и июнь 18:10:10\n",
      "Посчитан ряд  1287  за май и июнь 18:17:11\n",
      "Посчитан ряд  1326  за май и июнь 18:24:04\n",
      "Посчитан ряд  1327  за май и июнь 18:30:57\n",
      "Посчитан ряд  1331  за май и июнь 18:37:49\n",
      "Посчитан ряд  1332  за май и июнь 18:44:58\n",
      "Посчитан ряд  1333  за май и июнь 18:52:15\n",
      "Посчитан ряд  1334  за май и июнь 18:59:37\n",
      "Посчитан ряд  1335  за май и июнь 19:06:53\n",
      "Посчитан ряд  1336  за май и июнь 19:13:54\n",
      "Посчитан ряд  1337  за май и июнь 19:20:59\n",
      "Посчитан ряд  1338  за май и июнь 19:27:57\n",
      "Посчитан ряд  1339  за май и июнь 19:34:53\n",
      "Посчитан ряд  1376  за май и июнь 19:41:35\n",
      "Посчитан ряд  1377  за май и июнь 19:48:15\n",
      "Посчитан ряд  1378  за май и июнь 19:54:57\n",
      "Посчитан ряд  1380  за май и июнь 20:01:43\n",
      "Посчитан ряд  1382  за май и июнь 20:08:40\n",
      "Посчитан ряд  1383  за май и июнь 20:15:37\n",
      "Посчитан ряд  1384  за май и июнь 20:22:21\n",
      "Посчитан ряд  1385  за май и июнь 20:28:57\n",
      "Посчитан ряд  1386  за май и июнь 20:35:15\n",
      "Посчитан ряд  1387  за май и июнь 20:41:27\n",
      "Посчитан ряд  1388  за май и июнь 20:47:38\n",
      "Посчитан ряд  1389  за май и июнь 20:53:52\n",
      "Посчитан ряд  1390  за май и июнь 21:00:05\n",
      "Посчитан ряд  1426  за май и июнь 21:06:09\n",
      "Посчитан ряд  1431  за май и июнь 21:12:22\n",
      "Посчитан ряд  1434  за май и июнь 21:18:31\n",
      "Посчитан ряд  1435  за май и июнь 21:24:44\n",
      "Посчитан ряд  1436  за май и июнь 21:31:02\n",
      "Посчитан ряд  1437  за май и июнь 21:37:17\n",
      "Посчитан ряд  1438  за май и июнь 21:43:22\n",
      "Посчитан ряд  1439  за май и июнь 21:49:29\n",
      "Посчитан ряд  1441  за май и июнь 21:55:45\n",
      "Посчитан ряд  1442  за май и июнь 22:02:03\n",
      "Посчитан ряд  1480  за май и июнь 22:08:26\n",
      "Посчитан ряд  1482  за май и июнь 22:14:52\n",
      "Посчитан ряд  1483  за май и июнь 22:21:24\n",
      "Посчитан ряд  1530  за май и июнь 22:27:45\n",
      "Посчитан ряд  1532  за май и июнь 22:34:09\n",
      "Посчитан ряд  1533  за май и июнь 22:40:26\n",
      "Посчитан ряд  1580  за май и июнь 22:46:45\n",
      "Посчитан ряд  1630  за май и июнь 22:53:11\n",
      "Посчитан ряд  1684  за май и июнь 22:59:47\n",
      "Посчитан ряд  1733  за май и июнь 23:05:59\n",
      "Посчитан ряд  1734  за май и июнь 23:12:32\n",
      "Посчитан ряд  1783  за май и июнь 23:19:00\n",
      "Посчитан ряд  2068  за май и июнь 23:25:32\n",
      "Посчитан ряд  2069  за май и июнь 23:31:52\n",
      "Посчитан ряд  2118  за май и июнь 23:38:24\n",
      "Посчитан ряд  2119  за май и июнь 23:44:45\n",
      "Посчитан ряд  2168  за май и июнь 23:51:09\n",
      "The end 23:51:09\n",
      "id\n",
      "1075_2016-05-31_23_1    31.491840\n",
      "1075_2016-05-31_23_2    16.936300\n",
      "1075_2016-05-31_23_3     7.457952\n",
      "1075_2016-05-31_23_4     4.933993\n",
      "1075_2016-05-31_23_5     5.675095\n",
      "Name: y, dtype: float64\n"
     ]
    }
   ],
   "source": [
    "## may MAE \n",
    "Q_may1=0\n",
    "## june MAE\n",
    "Q_june1=0\n",
    "## the final result, \n",
    "##\n",
    "answer1=pd.Series(dtype='int')\n",
    "ts_list=col_list\n",
    "sample_param=[[0.7, 0.03, 7, 5, 500, 4, 'reg:linear', 1, 0.7, 0.0, 1, 0.01],\n",
    " [0.7, 0.03, 7, 5, 500, 4, 'reg:linear', 1, 0.7, 0.0, 1e-05, 0.01],\n",
    " [0.7, 0.03, 7, 5, 500, 4, 'reg:linear', 1, 0.7, 0.0, 1, 1],\n",
    " [0.7, 0.03, 7, 5, 500, 4, 'reg:linear', 1, 0.7, 0.0, 1, 1e-05],\n",
    " [0.7, 0.03, 7, 3, 500, 4, 'reg:linear', 1, 0.7, 0.0, 1, 1],\n",
    " [0.7, 0.03, 7, 5, 500, 4, 'reg:linear', 1, 0.7, 0.3, 0.1, 0.1]] # пробую поменять эти параметры\n",
    "\n",
    "n=0\n",
    "print('Start:', datetime.now().strftime(\"%H:%M:%S\"))\n",
    "warnings.simplefilter('ignore')\n",
    "\n",
    "\n",
    "for num_ts in ts_list:\n",
    "    warnings.simplefilter('ignore')\n",
    "    \n",
    "    ts_Q_may, ts_Q_june, series, predicted, models =calculate_regression_ts(num_ts,sample_param)\n",
    "    Q_may1+=ts_Q_may\n",
    "    Q_june1+=ts_Q_june\n",
    "    \n",
    "    answer1=answer1.append(series)\n",
    "        \n",
    "    print('Посчитан ряд ',num_ts , ' за май и июнь', datetime.now().strftime(\"%H:%M:%S\"))\n",
    "\n",
    "    \n",
    "\n",
    "\n",
    "answer1.index.name='id'\n",
    "answer1.name='y'    \n",
    "\n",
    "\n",
    "print('The end', datetime.now().strftime(\"%H:%M:%S\"))\n",
    "\n",
    "print(answer1.head())"
   ]
  },
  {
   "cell_type": "code",
   "execution_count": 898,
   "metadata": {},
   "outputs": [
    {
     "name": "stdout",
     "output_type": "stream",
     "text": [
      "Ошибка за май:  9.352237853377762\n",
      "Ошибка за июнь:  15.056922464249714\n"
     ]
    }
   ],
   "source": [
    "print('Ошибка за май: ',Q_may1/(102*739))\n",
    "print('Ошибка за июнь: ',Q_june1/(102*715))"
   ]
  },
  {
   "cell_type": "code",
   "execution_count": 895,
   "metadata": {},
   "outputs": [],
   "source": [
    "answer1.to_csv('submission4_reg.csv', sep = ',')"
   ]
  },
  {
   "cell_type": "code",
   "execution_count": 896,
   "metadata": {},
   "outputs": [
    {
     "name": "stdout",
     "output_type": "stream",
     "text": [
      "Successfully submitted to Жёлтое такси\n"
     ]
    },
    {
     "name": "stderr",
     "output_type": "stream",
     "text": [
      "\n",
      "  0%|          | 0.00/16.6M [00:00<?, ?B/s]\n",
      "  1%|1         | 216k/16.6M [00:00<00:07, 2.20MB/s]\n",
      "  9%|8         | 1.48M/16.6M [00:00<00:05, 2.93MB/s]\n",
      " 11%|#1        | 1.89M/16.6M [00:02<00:24, 621kB/s] \n",
      " 17%|#7        | 2.88M/16.6M [00:02<00:16, 863kB/s]\n",
      " 27%|##7       | 4.57M/16.6M [00:02<00:10, 1.21MB/s]\n",
      " 34%|###4      | 5.71M/16.6M [00:02<00:06, 1.65MB/s]\n",
      " 40%|###9      | 6.63M/16.6M [00:02<00:04, 2.18MB/s]\n",
      " 48%|####7     | 7.94M/16.6M [00:02<00:03, 2.91MB/s]\n",
      " 54%|#####3    | 8.94M/16.6M [00:02<00:02, 3.66MB/s]\n",
      " 63%|######2   | 10.5M/16.6M [00:02<00:01, 4.76MB/s]\n",
      " 70%|######9   | 11.6M/16.6M [00:03<00:00, 5.57MB/s]\n",
      " 80%|########  | 13.4M/16.6M [00:03<00:00, 7.04MB/s]\n",
      " 88%|########7 | 14.6M/16.6M [00:03<00:00, 8.06MB/s]\n",
      " 95%|#########5| 15.9M/16.6M [00:03<00:00, 8.85MB/s]\n",
      "100%|##########| 16.6M/16.6M [00:05<00:00, 3.13MB/s]\n",
      "C:\\Users\\Asus\\Anaconda3\\lib\\site-packages\\IPython\\utils\\_process_win32.py:131: ResourceWarning: unclosed file <_io.BufferedWriter name=6>\n",
      "  return process_handler(cmd, _system_body)\n",
      "ResourceWarning: Enable tracemalloc to get the object allocation traceback\n",
      "C:\\Users\\Asus\\Anaconda3\\lib\\site-packages\\IPython\\utils\\_process_win32.py:131: ResourceWarning: unclosed file <_io.BufferedReader name=7>\n",
      "  return process_handler(cmd, _system_body)\n",
      "ResourceWarning: Enable tracemalloc to get the object allocation traceback\n",
      "C:\\Users\\Asus\\Anaconda3\\lib\\site-packages\\IPython\\utils\\_process_win32.py:131: ResourceWarning: unclosed file <_io.BufferedReader name=8>\n",
      "  return process_handler(cmd, _system_body)\n",
      "ResourceWarning: Enable tracemalloc to get the object allocation traceback\n"
     ]
    }
   ],
   "source": [
    "!kaggle competitions submit -c yellowtaxi -f submission4_reg.csv -m regr4"
   ]
  },
  {
   "cell_type": "code",
   "execution_count": 897,
   "metadata": {},
   "outputs": [
    {
     "name": "stdout",
     "output_type": "stream",
     "text": [
      "fileName             date                 description  status    publicScore  privateScore  \n",
      "-------------------  -------------------  -----------  --------  -----------  ------------  \n",
      "submission4_reg.csv  2020-05-25 03:29:21  regr4        complete  15.05690     15.05690      \n",
      "submission3_reg.csv  2020-05-24 04:42:08  regr2        complete  9.08324      9.08324       \n",
      "submission2_reg.csv  2020-05-23 02:38:50  regr         complete  9.07267      9.07267       \n",
      "submission.csv       2020-05-18 05:14:50  SARIMAX      complete  37.19871     37.19871      \n",
      "submission.csv       2020-05-18 05:10:17  xgb          complete  37.19871     37.19871      \n",
      "answer.csv           2020-05-17 10:40:27  None         complete  37.19491     37.19491      \n",
      "answer.csv           2020-05-17 06:53:12  None         complete  37.19491     37.19491      \n"
     ]
    },
    {
     "name": "stderr",
     "output_type": "stream",
     "text": [
      "C:\\Users\\Asus\\Anaconda3\\lib\\site-packages\\IPython\\utils\\_process_win32.py:131: ResourceWarning: unclosed file <_io.BufferedWriter name=6>\n",
      "  return process_handler(cmd, _system_body)\n",
      "ResourceWarning: Enable tracemalloc to get the object allocation traceback\n",
      "C:\\Users\\Asus\\Anaconda3\\lib\\site-packages\\IPython\\utils\\_process_win32.py:131: ResourceWarning: unclosed file <_io.BufferedReader name=7>\n",
      "  return process_handler(cmd, _system_body)\n",
      "ResourceWarning: Enable tracemalloc to get the object allocation traceback\n",
      "C:\\Users\\Asus\\Anaconda3\\lib\\site-packages\\IPython\\utils\\_process_win32.py:131: ResourceWarning: unclosed file <_io.BufferedReader name=8>\n",
      "  return process_handler(cmd, _system_body)\n",
      "ResourceWarning: Enable tracemalloc to get the object allocation traceback\n"
     ]
    }
   ],
   "source": [
    "!kaggle competitions submissions yellowtaxi"
   ]
  },
  {
   "cell_type": "markdown",
   "metadata": {},
   "source": [
    "The final MAE score of this part: 15.05 that is two times better than previous SARIMA model result"
   ]
  },
  {
   "cell_type": "code",
   "execution_count": null,
   "metadata": {},
   "outputs": [],
   "source": []
  }
 ],
 "metadata": {
  "kernelspec": {
   "display_name": "Python 3",
   "language": "python",
   "name": "python3"
  },
  "language_info": {
   "codemirror_mode": {
    "name": "ipython",
    "version": 3
   },
   "file_extension": ".py",
   "mimetype": "text/x-python",
   "name": "python",
   "nbconvert_exporter": "python",
   "pygments_lexer": "ipython3",
   "version": "3.7.4"
  },
  "toc": {
   "base_numbering": 1,
   "nav_menu": {},
   "number_sections": true,
   "sideBar": true,
   "skip_h1_title": false,
   "title_cell": "Table of Contents",
   "title_sidebar": "Contents",
   "toc_cell": false,
   "toc_position": {
    "height": "calc(100% - 180px)",
    "left": "10px",
    "top": "150px",
    "width": "246.037px"
   },
   "toc_section_display": true,
   "toc_window_display": true
  }
 },
 "nbformat": 4,
 "nbformat_minor": 2
}
